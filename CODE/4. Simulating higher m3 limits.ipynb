{
 "cells": [
  {
   "attachments": {},
   "cell_type": "markdown",
   "metadata": {},
   "source": [
    "Import libraries"
   ]
  },
  {
   "cell_type": "code",
   "execution_count": null,
   "metadata": {},
   "outputs": [],
   "source": [
    "import random\n",
    "import pandas as pd\n",
    "from datetime import datetime, timedelta\n",
    "\n",
    "## Import evides dataset\n",
    "evides = pd.read_csv('../2. Main Research/data/evides_withAIS.csv')\n",
    "evides[['Wijk','ENI','Month_number']] = evides[['Wijk','ENI','Month_number']].astype('str')\n",
    "evides.drop(columns=['Unnamed: 0'], inplace=True)\n",
    "evides['Datum'] = pd.to_datetime(evides['Datum'])"
   ]
  },
  {
   "attachments": {},
   "cell_type": "markdown",
   "metadata": {},
   "source": [
    "Sample input parameters for transformation function."
   ]
  },
  {
   "cell_type": "code",
   "execution_count": null,
   "metadata": {},
   "outputs": [],
   "source": [
    "configuration = {\n",
    "    \"CurrentLimit\":6,\n",
    "    \"MaxQ\":12, # max m^3 of drinking water per shipment\n",
    "    \"MaxD\":7, # max amount of days between shipment\n",
    "    \"Pair_P\":0.20, # probability treshold of conversion of a shipment pair\n",
    "    \"Individual_P\":0.70 # probability treshold of conversion of a single shipment\n",
    "}"
   ]
  },
  {
   "attachments": {},
   "cell_type": "markdown",
   "metadata": {},
   "source": [
    "In order to simulate a higher shipment limit, we transform the Evides dataset. We do this by looking at shipment pairs first."
   ]
  },
  {
   "cell_type": "code",
   "execution_count": null,
   "metadata": {},
   "outputs": [],
   "source": [
    "shipment_pairs = pd.DataFrame(columns=['shipment 1','quantity 1','date 1','shipment 2','quantity 2','date 2','p','merge'])\n",
    "\n",
    "for i in evides.index:\n",
    "    # Get information for shipment \n",
    "    ENI = evides['ENI'].loc[i]\n",
    "    AMOUNT = evides['Hoeveelheid (m3)'].loc[i]\n",
    "    DATE = evides['Datum'].loc[i]\n",
    "\n",
    "    # See if there are any matches based on these parameters\n",
    "    min_amount = configuration[\"CurrentLimit\"] - AMOUNT\n",
    "    max_amount = configuration[\"MaxQ\"] - AMOUNT # how much m3 left?\n",
    "    date_range_min = DATE\n",
    "    date_range_max = DATE + timedelta(days=configuration['MaxD']) # max date\n",
    "\n",
    "    # Create subset\n",
    "    subset = evides[(evides['ENI']==ENI) & (evides['Hoeveelheid (m3)'] > min_amount) & (evides['Hoeveelheid (m3)'] <= max_amount) & (evides['Datum'] > date_range_min) & (evides['Datum'] <= date_range_max)]\n",
    "    if i in subset.index:\n",
    "        subset = subset.drop(i,axis=0)\n",
    "\n",
    "    if len(subset) > 0:\n",
    "        for j in subset.index:\n",
    "            index = str(i) + '_' + str(j)\n",
    "            shipment_pairs.loc[index] = [i, AMOUNT, DATE, j, subset['Hoeveelheid (m3)'].loc[j], subset['Datum'].loc[j], None, 0]\n",
    "\n",
    "# Add p and merge columns and fill them\n",
    "shipment_pairs['p'] = [random.random() for x in range(len(shipment_pairs))]\n",
    "shipment_pairs['merge'][shipment_pairs['p'] >= configuration['Pair_P']] = 1\n",
    "\n",
    "shipment_pairs"
   ]
  },
  {
   "attachments": {},
   "cell_type": "markdown",
   "metadata": {},
   "source": [
    "We'll need to take into account that the same shipment can occur in multiple pairs. "
   ]
  },
  {
   "cell_type": "code",
   "execution_count": null,
   "metadata": {},
   "outputs": [],
   "source": [
    "for i in shipment_pairs.index:\n",
    "    # Get subset in which this index occurs\n",
    "    subset = shipment_pairs[(shipment_pairs['shipment 1']==shipment_pairs['shipment 1'].loc[i]) \n",
    "                            | (shipment_pairs['shipment 1']==shipment_pairs['shipment 2'].loc[i]) \n",
    "                            | (shipment_pairs['shipment 2']==shipment_pairs['shipment 1'].loc[i]) \n",
    "                            | (shipment_pairs['shipment 2']==shipment_pairs['shipment 2'].loc[i])\n",
    "                            ]\n",
    "    \n",
    "    if len(subset) > 1:\n",
    "        indexes = subset.index\n",
    "        \n",
    "        # Set 'merge' to 0 for all in subset\n",
    "        for i in indexes:\n",
    "            shipment_pairs['merge'].loc[i] = 0\n",
    "\n",
    "        # Except the first one\n",
    "        shipment_pairs['merge'].loc[indexes[0]] = 1\n",
    "\n",
    "        print(subset)"
   ]
  },
  {
   "attachments": {},
   "cell_type": "markdown",
   "metadata": {},
   "source": [
    "Great, now let's merge these shipments."
   ]
  },
  {
   "cell_type": "code",
   "execution_count": null,
   "metadata": {},
   "outputs": [],
   "source": [
    "print(\"Amount of shipments in Evides dataset will be reduced by\", len(shipment_pairs[shipment_pairs['merge']==1]), \"shipments.\")\n",
    "\n",
    "for i in shipment_pairs.index:\n",
    "    if shipment_pairs['merge'].loc[i] == 1:\n",
    "        # Change M3 for the other\n",
    "        evides['Hoeveelheid (m3)'].loc[shipment_pairs['shipment 1'].loc[i]] = shipment_pairs['quantity 1'].loc[i] + shipment_pairs['quantity 2'].loc[i]\n",
    "        \n",
    "        # Drop the other\n",
    "        evides.drop(shipment_pairs['shipment 2'].loc[i], inplace=True)"
   ]
  },
  {
   "attachments": {},
   "cell_type": "markdown",
   "metadata": {},
   "source": [
    "We'll also need to convert individual shipments. When transforming individual shipments, we do not take into account any shipment which was included in the shipment_pairs table, regardless of whether they were converted or not in the end. "
   ]
  },
  {
   "cell_type": "code",
   "execution_count": null,
   "metadata": {},
   "outputs": [],
   "source": [
    "pair_indexes = set(list(shipment_pairs['shipment 1']) + list(shipment_pairs['shipment 2']))\n",
    "\n",
    "# And access the evides dataset excluding those indexes\n",
    "for m in evides[(~evides.index.isin(pair_indexes)) & (evides['Hoeveelheid (m3)']==configuration['CurrentLimit'])].index:\n",
    "    p = random.random()\n",
    "\n",
    "    if p >= configuration[\"Individual_P\"]:\n",
    "        evides['Hoeveelheid (m3)'].loc[m] = configuration['MaxQ']"
   ]
  },
  {
   "attachments": {},
   "cell_type": "markdown",
   "metadata": {},
   "source": [
    "Save new dataset"
   ]
  },
  {
   "cell_type": "code",
   "execution_count": null,
   "metadata": {},
   "outputs": [],
   "source": [
    "evides.to_csv('data/evides_higherlimit.csv')"
   ]
  }
 ],
 "metadata": {
  "kernelspec": {
   "display_name": "Python 3",
   "language": "python",
   "name": "python3"
  },
  "language_info": {
   "codemirror_mode": {
    "name": "ipython",
    "version": 3
   },
   "file_extension": ".py",
   "mimetype": "text/x-python",
   "name": "python",
   "nbconvert_exporter": "python",
   "pygments_lexer": "ipython3",
   "version": "3.9.6"
  },
  "orig_nbformat": 4
 },
 "nbformat": 4,
 "nbformat_minor": 2
}
