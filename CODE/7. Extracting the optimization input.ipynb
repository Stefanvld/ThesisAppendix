{
 "cells": [
  {
   "attachments": {},
   "cell_type": "markdown",
   "metadata": {},
   "source": [
    "Open the dataset"
   ]
  },
  {
   "cell_type": "code",
   "execution_count": null,
   "metadata": {},
   "outputs": [],
   "source": [
    "import pandas as pd\n",
    "import json\n",
    "evides = pd.read_csv('data/evides_withAIS.csv')"
   ]
  },
  {
   "attachments": {},
   "cell_type": "markdown",
   "metadata": {},
   "source": [
    "At the request of the PoR, shipments made to passenger ships are excluded from this analysis."
   ]
  },
  {
   "cell_type": "code",
   "execution_count": null,
   "metadata": {},
   "outputs": [],
   "source": [
    "evides = evides[evides['Scheepstype'] != 'Passagiersschip, opleidingschip']"
   ]
  },
  {
   "attachments": {},
   "cell_type": "markdown",
   "metadata": {},
   "source": [
    "Extract opt_input"
   ]
  },
  {
   "cell_type": "code",
   "execution_count": null,
   "metadata": {},
   "outputs": [],
   "source": [
    "opt_input = {}\n",
    "\n",
    "for i in set(evides.Datum):\n",
    "    # Select subset for that date\n",
    "    subset = evides[evides['Datum']==i]\n",
    "\n",
    "    # Create dict for that date\n",
    "    opt_input[i] = {'Shipments':{}}\n",
    "\n",
    "    # Iterative over all shipments within subset\n",
    "    s=1\n",
    "    for j in subset.index:\n",
    "        opt_input[i]['Shipments']['S{index}'.format(index=s)] = {'Loc':[evides['Latitude'].loc[j], evides['Longitude'].loc[j]], 'WaterAmount':evides['Hoeveelheid (m3)'].loc[j]}\n",
    "        s=s+1\n",
    "\n",
    "    # Take note of the amount of shipments\n",
    "    opt_input[i]['N_Shipments'] = len(subset)\n",
    "\n",
    "# Create json file\n",
    "with open('data/optimization_input_regular.json', \"w\") as json_file:\n",
    "    json.dump(opt_input, json_file)"
   ]
  },
  {
   "cell_type": "code",
   "execution_count": null,
   "metadata": {},
   "outputs": [],
   "source": [
    "opt_input"
   ]
  },
  {
   "attachments": {},
   "cell_type": "markdown",
   "metadata": {},
   "source": [
    "Show distribution"
   ]
  },
  {
   "cell_type": "code",
   "execution_count": null,
   "metadata": {},
   "outputs": [],
   "source": [
    "import matplotlib.pyplot as plt\n",
    "\n",
    "# Create hist data\n",
    "hist_data = [opt_input[x]['N_Shipments'] for x in opt_input]\n",
    "\n",
    "# Plot hist data\n",
    "fig, ax = plt.subplots(figsize=(12, 10),dpi=100)\n",
    "\n",
    "ax.hist(hist_data, ec=\"black\", color=\"lightseagreen\", bins=40) \n",
    "ax.set_title(\"Distribution of the amount of shipments per day\")\n",
    "ax.set_xlabel(\"Number of shipments\")\n",
    "ax.set_ylabel(\"# instances\")\n",
    "ax.grid = True\n",
    "\n",
    "# Then save a high-quality version of this image\n",
    "plt.savefig('plots/distrshipments.png', dpi=400)"
   ]
  },
  {
   "attachments": {},
   "cell_type": "markdown",
   "metadata": {},
   "source": [
    "Repeat the same steps for the dataset in which we simulate a higher shipment limit."
   ]
  },
  {
   "cell_type": "code",
   "execution_count": null,
   "metadata": {},
   "outputs": [],
   "source": [
    "# Import dataset\n",
    "evides = pd.read_csv('data/evides_higherlimit.csv')\n",
    "evides = evides[evides['Scheepstype'] != 'Passagiersschip, opleidingschip']\n",
    "\n",
    "# Extract input\n",
    "opt_input = {}\n",
    "\n",
    "for i in set(evides.Datum):\n",
    "    # Select subset for that date\n",
    "    subset = evides[evides['Datum']==i]\n",
    "\n",
    "    # Create dict for that date\n",
    "    opt_input[i] = {'Shipments':{}}\n",
    "\n",
    "    # Iterative over all shipments within subset\n",
    "    s=1\n",
    "    for j in subset.index:\n",
    "        opt_input[i]['Shipments']['S{index}'.format(index=s)] = {'Loc':[evides['Latitude'].loc[j], evides['Longitude'].loc[j]], 'WaterAmount':evides['Hoeveelheid (m3)'].loc[j]}\n",
    "        s=s+1\n",
    "\n",
    "    # Take note of the amount of shipments\n",
    "    opt_input[i]['N_Shipments'] = len(subset)\n",
    "\n",
    "# Create json file\n",
    "with open('data/optimization_input_highershipment.json', \"w\") as json_file:\n",
    "    json.dump(opt_input, json_file)"
   ]
  }
 ],
 "metadata": {
  "kernelspec": {
   "display_name": "Python 3",
   "language": "python",
   "name": "python3"
  },
  "language_info": {
   "codemirror_mode": {
    "name": "ipython",
    "version": 3
   },
   "file_extension": ".py",
   "mimetype": "text/x-python",
   "name": "python",
   "nbconvert_exporter": "python",
   "pygments_lexer": "ipython3",
   "version": "3.9.6"
  },
  "orig_nbformat": 4
 },
 "nbformat": 4,
 "nbformat_minor": 2
}
