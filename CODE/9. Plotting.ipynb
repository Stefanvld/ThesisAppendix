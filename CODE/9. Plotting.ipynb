{
 "cells": [
  {
   "attachments": {},
   "cell_type": "markdown",
   "metadata": {},
   "source": [
    "We'll start by plotting a simple map. "
   ]
  },
  {
   "cell_type": "code",
   "execution_count": null,
   "metadata": {},
   "outputs": [],
   "source": [
    "# Import modules \n",
    "import folium\n",
    "import geopandas as gpd\n",
    "import json\n",
    "from branca.element import Template, MacroElement\n",
    "\n",
    "# Define function to plot initial map\n",
    "def init_map():\n",
    "  m = folium.Map(\n",
    "    location=[51.9, 4.3],\n",
    "    zoom_start=11.4,\n",
    "    zoom_control=False,\n",
    "    scrollWheelZoom=False,\n",
    "    dragging=False\n",
    "  )\n",
    "\n",
    "  return m\n",
    "\n",
    "map = init_map()\n",
    "map.save('map.html')\n",
    "map"
   ]
  },
  {
   "attachments": {},
   "cell_type": "markdown",
   "metadata": {},
   "source": [
    "Now let's plot routes on it. Before we can do this, we will need to convert our routes to a suitable input format. "
   ]
  },
  {
   "cell_type": "code",
   "execution_count": null,
   "metadata": {},
   "outputs": [],
   "source": [
    "def PlotRoutes(date, type):\n",
    "    # Get information\n",
    "    data_input = json.load(open('solutions/main_analysis/solution_{date}_{type}.json'.format(date=date, type=type)))\n",
    "    routes = data_input['Ordered_AIS']\n",
    "\n",
    "    # Initialize map & colors\n",
    "    colors = ['blue', 'red','green','yellow'] \n",
    "    m = init_map()\n",
    "    depots = [[51.96249648967369, 4.137689887873459],[51.89740273617377, 4.460817447562738]] # DP locations\n",
    "    supplypoints = [[51.889365439900516, 4.313357332833194]] # SP locations\n",
    "\n",
    "    # Adding the routes\n",
    "    for i, (boat, route) in enumerate(routes.items()):\n",
    "        polyline = folium.PolyLine(locations=route, color=colors[i], weight=2.5, opacity=1)\n",
    "        polyline.add_child(folium.Tooltip(boat))\n",
    "        m.add_child(polyline)\n",
    "\n",
    "        # Add markers for each location\n",
    "        for location in route:\n",
    "            if location in depots:\n",
    "                folium.Marker(location, icon=folium.Icon(color='blue', icon='parking', prefix='fa')).add_to(m)\n",
    "            elif location in supplypoints:\n",
    "                folium.Marker(location, icon=folium.Icon(color='red', icon='gas-pump', prefix='fa')).add_to(m)\n",
    "            else:\n",
    "                #folium.Marker(location).add_to(m)\n",
    "                pass\n",
    "\n",
    "    # Add HTML code\n",
    "    template = \"\"\"\n",
    "    {% macro html(this, kwargs) %}\n",
    "    <div style=\"\n",
    "        position: fixed; \n",
    "        bottom: 580px;\n",
    "        left: 270px;\n",
    "        width: 120px;\n",
    "        height: 90px; \n",
    "        z-index:9999;\n",
    "        font-size:14px;\n",
    "        \">\n",
    "        <p><a style=\"color:blue;\">&#9679;</a>&nbsp;Watergeus</p>\n",
    "        <p><a style=\"color:red;\">&#9679;</a>&nbsp;Waterbuffel</p>\n",
    "        <p><a style=\"color:green;\">&#9679;</a>&nbsp;Waterval</p>\n",
    "        <p><a style=\"color:yellow;\">&#9679;</a>&nbsp;Waterman</p>\n",
    "    </div>\n",
    "    <div style=\"\n",
    "        position: fixed; \n",
    "        bottom: 550px;\n",
    "        left: 250px;\n",
    "        width: 120px;\n",
    "        height: 130px; \n",
    "        border:2px solid grey; \n",
    "        z-index:9998;\n",
    "        font-size:14px;\n",
    "        background-color:white;\n",
    "        opacity: 0.7;\n",
    "        \">\n",
    "    </div>\n",
    "    {% endmacro %}\n",
    "    \"\"\"\n",
    "\n",
    "    macro = MacroElement()\n",
    "    macro._template = Template(template)\n",
    "\n",
    "    m.get_root().add_child(macro)\n",
    "\n",
    "    # Save the map to an HTML file\n",
    "    m.save(outfile='plots/solplots/html/map_{date}_{type}.html'.format(date=date,type=type))\n",
    "    \n",
    "    return(m)"
   ]
  },
  {
   "cell_type": "code",
   "execution_count": null,
   "metadata": {},
   "outputs": [],
   "source": [
    "# Define some sample routes\n",
    "dates = ['2022-01-27', '2022-03-08','2022-03-09','2022-05-03','2022-05-19','2022-06-29','2022-07-06','2022-07-26','2022-07-28','2022-09-08','2022-09-29','2022-09-30','2022-10-04','2022-10-14','2022-10-21']\n",
    "type = \"regular\"\n",
    "\n",
    "for i in dates:\n",
    "    PlotRoutes(i, type)"
   ]
  }
 ],
 "metadata": {
  "kernelspec": {
   "display_name": "Python 3",
   "language": "python",
   "name": "python3"
  },
  "language_info": {
   "codemirror_mode": {
    "name": "ipython",
    "version": 3
   },
   "file_extension": ".py",
   "mimetype": "text/x-python",
   "name": "python",
   "nbconvert_exporter": "python",
   "pygments_lexer": "ipython3",
   "version": "3.9.6"
  },
  "orig_nbformat": 4
 },
 "nbformat": 4,
 "nbformat_minor": 2
}
