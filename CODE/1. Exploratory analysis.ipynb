{
 "cells": [
  {
   "attachments": {},
   "cell_type": "markdown",
   "metadata": {},
   "source": [
    "### Notebook: Evides\n",
    "\n",
    "This notebook contains the exploratory analysis into all water shipments delivered by the supply boats of Evides. In the cell below, the necessary packages and data is loaded. In order to run the whole notebook on a different dataset, import it as 'evides' and make sure it stores the same information (with the same column names) as the original input. \n",
    "\n",
    "Note that all markdown descriptions in this notebook are based on the analysis that was run on the 2022 data. If the notebook is run again on different data, then these comments are no longer valid. "
   ]
  },
  {
   "cell_type": "code",
   "execution_count": null,
   "metadata": {},
   "outputs": [],
   "source": [
    "# Import libraries \n",
    "import pandas as pd\n",
    "import numpy as np\n",
    "import matplotlib.pyplot as plt\n",
    "import matplotlib.ticker as ticker\n",
    "import matplotlib.dates as mdates\n",
    "import matplotlib.cm\n",
    "from datetime import datetime\n",
    "from datetime import timedelta\n",
    "from statistics import mean\n",
    "import time\n",
    "pd.options.mode.chained_assignment = None\n",
    "\n",
    "# Import data and re-adjust it so that it is ready to use. Please refer to the cleaning notebook to understand why each of these steps is undertaken.\n",
    "evides = pd.read_csv('../Data/Cleaned data/evides_cleaned.csv') \n",
    "evides = evides.drop(['Unnamed: 0'], axis=1)\n",
    "evides[['Wijk','ENI','Month_number']] = evides[['Wijk','ENI','Month_number']].astype('str')\n",
    "evides['Month'] = pd.Categorical(evides['Month'], categories=['January', 'February', 'March', 'April', 'May', 'June', 'July', 'August', 'September', 'October', 'November', 'December'], ordered=True)\n",
    "evides = evides.sort_values(by='Datum')\n",
    "evides.drop_duplicates(inplace=True)\n",
    "\n",
    "# Add leading zero's back.\n",
    "for i in evides['ENI']:\n",
    "    # if len == 7, then immediately add the leading 0 to all instances of this ENI. \n",
    "    if len(i) == 7:\n",
    "        evides['ENI'][evides['ENI']==i] = '0' + i"
   ]
  },
  {
   "attachments": {},
   "cell_type": "markdown",
   "metadata": {},
   "source": [
    "### Analysing the data\n",
    "Now that we've taken care of NAs and invalid values, we can start looking at the data. Let's start with some general statistics."
   ]
  },
  {
   "cell_type": "code",
   "execution_count": null,
   "metadata": {},
   "outputs": [],
   "source": [
    "# Data that we want to plot\n",
    "months = evides['Month'].values.unique()\n",
    "counts = [len(evides[evides['Month']==x]) for x in months]\n",
    "\n",
    "# Plot\n",
    "plt.figure(figsize=(14,9),dpi=100)\n",
    "plt.bar(months, counts, color=\"steelblue\", ec='black')\n",
    "plt.ylabel('# Water shipments')\n",
    "plt.xlabel('Month')\n",
    "plt.title('Count of water shipments throughout the year')\n",
    "plt.grid = True\n",
    "\n",
    "# Then save a high-quality version of this image\n",
    "plt.savefig('../Plots/Evides/count_watershipments_by_month.png', dpi=400)"
   ]
  },
  {
   "attachments": {},
   "cell_type": "markdown",
   "metadata": {},
   "source": [
    "And what about the total amount of liters?"
   ]
  },
  {
   "cell_type": "code",
   "execution_count": null,
   "metadata": {},
   "outputs": [],
   "source": [
    "# Data that we want to plot\n",
    "months = evides['Month'].values.unique()\n",
    "liters = [evides['Hoeveelheid (m3)'][evides['Month']==x].sum() for x in months]\n",
    "liters_avg = [evides['Hoeveelheid (m3)'][evides['Month']==x].mean() for x in months]\n",
    "\n",
    "# Plot\n",
    "fig, ax = plt.subplots(1, 1, figsize=(14,9),dpi=100)\n",
    "\n",
    "# Create months2\n",
    "months2 = months.astype('object')\n",
    "\n",
    "for i in range(len(months2)):\n",
    "    months2[i] = months2[i] + \"\\n $n$=\" + str(round(counts[i], 2))\n",
    "\n",
    "# Plot\n",
    "ax.bar(x=months2, height=liters, color=\"darkturquoise\", ec='black')\n",
    "ax.yaxis.set_major_formatter(ticker.FuncFormatter(lambda y, pos: \n",
    "'{:.1f}'.format(y) + ' $M^3$'))\n",
    "\n",
    "plt.ylabel('Water quantity (in $M^3$)')\n",
    "plt.xlabel('Month')\n",
    "plt.title('Total amount of water delivered per month')\n",
    "plt.grid = True\n",
    "\n",
    "plt.show\n",
    "\n",
    "# Then save a high-quality version of this image\n",
    "plt.savefig('../Plots/Evides/total_liters_by_month.png', dpi=400)"
   ]
  },
  {
   "attachments": {},
   "cell_type": "markdown",
   "metadata": {},
   "source": [
    "And the average amount of liters per shipment?"
   ]
  },
  {
   "cell_type": "code",
   "execution_count": null,
   "metadata": {},
   "outputs": [],
   "source": [
    "# Data that we want to plot\n",
    "months = evides['Month'].values.unique()\n",
    "liters = [evides['Hoeveelheid (m3)'][evides['Month']==x].mean() for x in months]\n",
    "\n",
    "# Plot\n",
    "fig, ax = plt.subplots(1, 1, figsize=(14,9),dpi=100)\n",
    "\n",
    "ax.bar(x=months2, height=liters, color=\"darkturquoise\", ec='black')\n",
    "ax.yaxis.set_major_formatter(ticker.FuncFormatter(lambda y, pos: \n",
    "'{:.1f}'.format(int(y)) + ' $M^3$'))\n",
    "\n",
    "plt.ylabel('Water quantity (in $M^3$)')\n",
    "plt.xlabel('Month')\n",
    "plt.title('Average amount of water delivered per shipment per month')\n",
    "plt.grid = True\n",
    "\n",
    "plt.show\n",
    "\n",
    "# Then save a high-quality version of this image\n",
    "plt.savefig('../Plots/Evides/average_liters_by_month.png', dpi=400)"
   ]
  },
  {
   "attachments": {},
   "cell_type": "markdown",
   "metadata": {},
   "source": [
    "How do the amounts delivered differ based on customer ship type?"
   ]
  },
  {
   "cell_type": "code",
   "execution_count": null,
   "metadata": {},
   "outputs": [],
   "source": [
    "# Data that we want to plot\n",
    "data = {}\n",
    "for x in set(evides['Scheepstype'].values):\n",
    "    data[x] = [len(evides[(evides['Scheepstype'] == x) & (evides['Month']==y)]) for y in months]\n",
    "\n",
    "# Plot\n",
    "fig, ax = plt.subplots(figsize=(16,9),dpi=100)\n",
    "bottom = np.zeros(12)\n",
    "\n",
    "\n",
    "for boolean, weight_count in data.items():\n",
    "    p = ax.bar(months, weight_count, 0.5, label=boolean, ec='black', bottom=bottom)\n",
    "    bottom += weight_count\n",
    "\n",
    "box = ax.get_position()\n",
    "ax.set_position([box.x0, box.y0 + box.height * 0.15,\n",
    "                 box.width, box.height * 0.85])\n",
    "\n",
    "ax.legend(loc=\"upper center\", bbox_to_anchor=(0.5, -0.10), ncol=4, fancybox=3, shadow=True, title=\"Ship type\")\n",
    "ax.set_title('Count of water shipments by ship type')\n",
    "ax.set_ylabel('# of shipments')\n",
    "ax.set_xlabel('Month')\n",
    "\n",
    "# Then save a high-quality version of this image\n",
    "plt.savefig('../Plots/Evides/count_watershipments_by_month_per_shiptype.png', dpi=400)"
   ]
  },
  {
   "attachments": {},
   "cell_type": "markdown",
   "metadata": {},
   "source": [
    "And what about the amount of water (in $M^3$) delivered?"
   ]
  },
  {
   "cell_type": "code",
   "execution_count": null,
   "metadata": {},
   "outputs": [],
   "source": [
    "# Data that we want to plot\n",
    "data = {}\n",
    "for x in set(evides['Scheepstype'].values):\n",
    "    data[x] = [evides['Hoeveelheid (m3)'][(evides['Scheepstype'] == x) & (evides['Month']==y)].sum() for y in months]\n",
    "\n",
    "# Plot\n",
    "fig, ax = plt.subplots(figsize=(16,9),dpi=100)\n",
    "bottom = np.zeros(12)\n",
    "\n",
    "\n",
    "for boolean, weight_count in data.items():\n",
    "    p = ax.bar(months, weight_count, 0.5, label=boolean, ec='black', bottom=bottom)\n",
    "    bottom += weight_count\n",
    "\n",
    "box = ax.get_position()\n",
    "ax.set_position([box.x0, box.y0 + box.height * 0.15,\n",
    "                 box.width, box.height * 0.85])\n",
    "\n",
    "ax.legend(loc=\"upper center\", bbox_to_anchor=(0.5, -0.10), ncol=4, fancybox=3, shadow=True, title=\"Ship type\")\n",
    "ax.yaxis.set_major_formatter(ticker.FuncFormatter(lambda y, pos: \n",
    "'{:.1f}'.format(int(y)) + ' $M^3$'))\n",
    "ax.set_title('Total amount of water delivered per shiptype')\n",
    "ax.set_ylabel('Water quantity (in $M^3$)')\n",
    "ax.set_xlabel('Month')\n",
    "\n",
    "# Then save a high-quality version of this image\n",
    "plt.savefig('../Plots/Evides/total_liters_by_month_per_shiptype.png', dpi=400)"
   ]
  },
  {
   "attachments": {},
   "cell_type": "markdown",
   "metadata": {},
   "source": [
    "So, what about the counts divided by district?"
   ]
  },
  {
   "cell_type": "code",
   "execution_count": null,
   "metadata": {},
   "outputs": [],
   "source": [
    "# Data that we want to plot\n",
    "data = {}\n",
    "for x in set(evides['Wijk'].values):\n",
    "    data[x] = [len(evides[(evides['Wijk'] == x) & (evides['Month']==y)]) for y in months]\n",
    "\n",
    "# Plot\n",
    "fig, ax = plt.subplots(figsize=(16,9),dpi=100)\n",
    "bottom = np.zeros(12)\n",
    "\n",
    "for boolean, weight_count in data.items():\n",
    "    p = ax.bar(months, weight_count, 0.5, label=boolean, ec='black', bottom=bottom)\n",
    "    bottom += weight_count\n",
    "\n",
    "box = ax.get_position()\n",
    "ax.set_position([box.x0, box.y0 + box.height * 0.15,\n",
    "                 box.width, box.height * 0.85])\n",
    "\n",
    "ax.legend(loc=\"upper center\", bbox_to_anchor=(0.5, -0.10), ncol=4, fancybox=3, shadow=True, title=\"District\")\n",
    "ax.set_title('Count of water shipments')\n",
    "ax.set_ylabel('# of shipments')\n",
    "ax.set_xlabel('Month')\n",
    "\n",
    "# Then save a high-quality version of this image\n",
    "plt.savefig('../Plots/Evides/count_watershipments_by_month_per_district.png', dpi=400)"
   ]
  },
  {
   "attachments": {},
   "cell_type": "markdown",
   "metadata": {},
   "source": [
    "And the total liters divided by division?"
   ]
  },
  {
   "cell_type": "code",
   "execution_count": null,
   "metadata": {},
   "outputs": [],
   "source": [
    "# Data that we want to plot\n",
    "data = {}\n",
    "for x in set(evides['Wijk'].values):\n",
    "    data[x] = [evides['Hoeveelheid (m3)'][(evides['Wijk'] == x) & (evides['Month']==y)].sum() for y in months]\n",
    "\n",
    "# Plot\n",
    "fig, ax = plt.subplots(figsize=(16,9),dpi=100)\n",
    "bottom = np.zeros(12)\n",
    "\n",
    "\n",
    "for boolean, weight_count in data.items():\n",
    "    p = ax.bar(months, weight_count, 0.5, label=boolean, ec='black', bottom=bottom)\n",
    "    bottom += weight_count\n",
    "\n",
    "box = ax.get_position()\n",
    "ax.set_position([box.x0, box.y0 + box.height * 0.15,\n",
    "                 box.width, box.height * 0.85])\n",
    "\n",
    "ax.legend(loc=\"upper center\", bbox_to_anchor=(0.5, -0.10), ncol=4, fancybox=3, shadow=True, title=\"District\")\n",
    "ax.yaxis.set_major_formatter(ticker.FuncFormatter(lambda y, pos: \n",
    "'{:.1f}'.format(int(y)) + ' $M^3$'))\n",
    "ax.set_title('Total amount of water delivered per district')\n",
    "ax.set_ylabel('Water quantity (in $M^3$)')\n",
    "ax.set_xlabel('Month')\n",
    "\n",
    "# Then save a high-quality version of this image\n",
    "plt.savefig('../Plots/Evides/total_liters_by_month_per_district.png', dpi=400)"
   ]
  },
  {
   "attachments": {},
   "cell_type": "markdown",
   "metadata": {},
   "source": [
    "What about the average amount of water delivered per district?"
   ]
  },
  {
   "cell_type": "code",
   "execution_count": null,
   "metadata": {},
   "outputs": [],
   "source": [
    "# Data that we want to plot\n",
    "liters = evides.groupby('Wijk')['Hoeveelheid (m3)'].mean()\n",
    "divisions = []\n",
    "for i in range(len(liters)):\n",
    "    divisions.append(\"District \" + str(liters.index[i]))\n",
    "    \n",
    "\n",
    "# Plot\n",
    "fig, ax = plt.subplots(1, 1, figsize=(14,9),dpi=100)\n",
    "\n",
    "ax.bar(x=divisions, height=liters.values, color=\"darkturquoise\", ec='black')\n",
    "ax.yaxis.set_major_formatter(ticker.FuncFormatter(lambda y, pos: \n",
    "'{:.1f}'.format(int(y)) + ' $M^3$'))\n",
    "\n",
    "plt.ylabel('Water quantity (in $M^3$)')\n",
    "plt.xlabel('District')\n",
    "plt.title('Average amount of water delivered per district')\n",
    "plt.grid = True\n",
    "\n",
    "plt.show\n",
    "\n",
    "# Then save a high-quality version of this image\n",
    "plt.savefig('../Plots/Evides/average_liters_by_district.png', dpi=400)"
   ]
  },
  {
   "cell_type": "code",
   "execution_count": null,
   "metadata": {},
   "outputs": [],
   "source": [
    "liters"
   ]
  },
  {
   "attachments": {},
   "cell_type": "markdown",
   "metadata": {},
   "source": [
    "Interestingly enough, we find that the average amount of water delivered per district differs signficantly for district 1. "
   ]
  },
  {
   "cell_type": "code",
   "execution_count": null,
   "metadata": {},
   "outputs": [],
   "source": [
    "# Data that we want to plot\n",
    "data = {}\n",
    "for x in set(evides['Scheepstype'].values):\n",
    "    data[x] = [len(evides[(evides['Wijk'] == y) & (evides['Scheepstype']==x)]) for y in ['1','2','3','4']]\n",
    "    \n",
    "# Plot\n",
    "fig, ax = plt.subplots(figsize=(16,9),dpi=100)\n",
    "bottom = np.zeros(4)\n",
    "\n",
    "# We'll reuse the divisions list made in the cell above.\n",
    "for boolean, weight_count in data.items():\n",
    "    p = ax.bar(divisions, weight_count, 0.5, label=boolean, ec='black', bottom=bottom)\n",
    "    bottom += weight_count\n",
    "\n",
    "box = ax.get_position()\n",
    "ax.set_position([box.x0, box.y0 + box.height * 0.15,\n",
    "                 box.width, box.height * 0.85])\n",
    "\n",
    "ax.legend(loc=\"upper center\", bbox_to_anchor=(0.5, -0.10), ncol=4, fancybox=3, shadow=True, title=\"Ship type\")\n",
    "ax.set_title('Count of water shipments by ship type and per district')\n",
    "ax.set_ylabel('# of shipments')\n",
    "ax.set_xlabel('District')\n",
    "\n",
    "# Then save a high-quality version of this image\n",
    "plt.savefig('../Plots/Evides/count_watershipments_by_month_per_district_per_shiptype.png', dpi=400)"
   ]
  },
  {
   "cell_type": "code",
   "execution_count": null,
   "metadata": {},
   "outputs": [],
   "source": [
    "# Data that we want to plot\n",
    "data = {}\n",
    "for x in set(evides['Scheepstype'].values):\n",
    "    data[x] = [evides['Hoeveelheid (m3)'][(evides['Wijk'] == y) & (evides['Scheepstype']==x)].sum() for y in ['1','2','3','4']]\n",
    "\n",
    "# Plot\n",
    "fig, ax = plt.subplots(figsize=(16,9),dpi=100)\n",
    "bottom = np.zeros(4)\n",
    "\n",
    "# We'll reuse the divisions list made in the cell above.\n",
    "for boolean, weight_count in data.items():\n",
    "    p = ax.bar(divisions, weight_count, 0.5, label=boolean, ec='black', bottom=bottom)\n",
    "    bottom += weight_count\n",
    "\n",
    "box = ax.get_position()\n",
    "ax.set_position([box.x0, box.y0 + box.height * 0.15,\n",
    "                 box.width, box.height * 0.85])\n",
    "\n",
    "ax.legend(loc=\"upper center\", bbox_to_anchor=(0.5, -0.10), ncol=4, fancybox=3, shadow=True, title=\"Ship type\")\n",
    "ax.yaxis.set_major_formatter(ticker.FuncFormatter(lambda y, pos: \n",
    "'{:.1f}'.format(int(y)) + ' $M^3$'))\n",
    "ax.set_title('Total amount of water delivered per district')\n",
    "ax.set_ylabel('Water quantity (in $M^3$)')\n",
    "ax.set_xlabel('District')\n",
    "\n",
    "# Then save a high-quality version of this image\n",
    "plt.savefig('../Plots/Evides/total_liters_by_district_per_shiptype.png', dpi=400)"
   ]
  },
  {
   "attachments": {},
   "cell_type": "markdown",
   "metadata": {},
   "source": [
    "What is causing this significant difference between district 1 and district 2? "
   ]
  },
  {
   "cell_type": "code",
   "execution_count": null,
   "metadata": {},
   "outputs": [],
   "source": [
    "# Define refugee boats\n",
    "refugee_boats = ['02326758','02311635', '07001727', '07000661', '07001417', '05111630', '07001515']\n",
    "\n",
    "# Define refugee_boat column\n",
    "evides['Refugee_boat'] = 'Other'\n",
    "evides['Refugee_boat'][evides['ENI'].isin(refugee_boats)] = \"Refugee boat\"\n",
    "evides['Refugee_boat'][(~evides['ENI'].isin(refugee_boats)) & (evides['Scheepstype'] == 'Passagiersschip, opleidingschip')] = 'Other passenger ship'"
   ]
  },
  {
   "cell_type": "code",
   "execution_count": null,
   "metadata": {},
   "outputs": [],
   "source": [
    "# Data that we want to plot\n",
    "data = {}\n",
    "for x in set(evides['Refugee_boat'].values):\n",
    "    data[x] = [evides['Hoeveelheid (m3)'][(evides['Refugee_boat'] == x) & (evides['Month']==y)].sum() for y in months]\n",
    "\n",
    "# Plot\n",
    "fig, ax = plt.subplots(figsize=(16,9),dpi=100)\n",
    "bottom = np.zeros(12)\n",
    "\n",
    "fig.suptitle(\"Total amount of water delivered per month\", y = 0.95)\n",
    "\n",
    "for boolean, weight_count in data.items():\n",
    "    p = ax.bar(months, weight_count, 0.5, label=boolean, ec='black', bottom=bottom)\n",
    "    bottom += weight_count\n",
    "\n",
    "box = ax.get_position()\n",
    "ax.set_position([box.x0, box.y0 + box.height * 0.15,\n",
    "                 box.width, box.height * 0.85])\n",
    "\n",
    "ax.legend(loc=\"upper center\", bbox_to_anchor=(0.5, -0.10), ncol=4, fancybox=3, shadow=True, title=\"Ship type\")\n",
    "ax.yaxis.set_major_formatter(ticker.FuncFormatter(lambda y, pos: \n",
    "'{:.1f}'.format(int(y)) + ' $M^3$'))\n",
    "ax.set_title('Passenger ships (including refugee boats) account for {s1}% of the total water delivered, yet account for only {s2}% of total shipments.'.format(\n",
    "    s1 = round(evides['Hoeveelheid (m3)'][(evides.Refugee_boat!=\"Other\")].sum() / evides['Hoeveelheid (m3)'].sum() * 100, 2),\n",
    "    s2 = round(evides['Hoeveelheid (m3)'][(evides.Refugee_boat!=\"Other\")].count() / evides['Hoeveelheid (m3)'].count() * 100, 2)\n",
    "    ))\n",
    "ax.set_ylabel('Water quantity (in $M^3$)')\n",
    "ax.set_xlabel('Month')\n",
    "\n",
    "# Then save a high-quality version of this image\n",
    "plt.savefig('../Plots/Evides/total_liters_by_refugees.png', dpi=400)"
   ]
  },
  {
   "attachments": {},
   "cell_type": "markdown",
   "metadata": {},
   "source": [
    "Given these large quantities, refugee boats appear to have quite an effect on the water shipments. This is something that will need to be taken into account. Let's take a further look at the distribution of shipments. "
   ]
  },
  {
   "cell_type": "code",
   "execution_count": null,
   "metadata": {},
   "outputs": [],
   "source": [
    "# Create new column called 'Shipment_size' which determines whether a shipment is larger than 6 \n",
    "evides['Shipment_size'] = 'Larger than 6 $M^3$'\n",
    "evides['Shipment_size'].loc[evides['Hoeveelheid (m3)'] <= 6] = 'Smaller or equal to 6 $M^3$'"
   ]
  },
  {
   "cell_type": "code",
   "execution_count": null,
   "metadata": {},
   "outputs": [],
   "source": [
    "# Data that we want to plot\n",
    "data = {}\n",
    "for i in set(evides['Scheepstype'].values):\n",
    "    data[i] = []\n",
    "    for j in set(evides['Shipment_size']):\n",
    "        data[i].append(evides['Hoeveelheid (m3)'][(evides['Scheepstype'] == i) & (evides['Shipment_size'] == j)].values.sum())\n",
    "\n",
    "# Define categories\n",
    "categories = list(set(evides['Shipment_size']))\n",
    "\n",
    "for i in range(0, len(categories)):\n",
    "    categories[i] = categories[i] + \"\\n N={n} ({per}%)\".format(\n",
    "        n=evides['Hoeveelheid (m3)'][evides.Shipment_size == categories[i]].count(),\n",
    "        per=round(evides['Hoeveelheid (m3)'][evides.Shipment_size == categories[i]].count() / evides['Hoeveelheid (m3)'].count() * 100, 2))\n",
    "\n",
    "# Plot\n",
    "fig, ax = plt.subplots(figsize=(10, 12),dpi=100)\n",
    "bottom = np.zeros(2)\n",
    "\n",
    "# We'll reuse the divisions list made in the cell above.\n",
    "for boolean, weight_count in data.items():\n",
    "    p = ax.bar(categories, weight_count, 0.5, label=boolean, ec='black', bottom=bottom)\n",
    "    bottom += weight_count\n",
    "\n",
    "box = ax.get_position()\n",
    "ax.set_position([box.x0, box.y0 + box.height * 0.15,\n",
    "                 box.width, box.height * 0.85])\n",
    "\n",
    "ax.legend(loc=\"upper center\", bbox_to_anchor=(0.5, -0.10), ncol=2, fancybox=3, shadow=True, title=\"Ship type\")\n",
    "ax.yaxis.set_major_formatter(ticker.FuncFormatter(lambda y, pos: \n",
    "'{:.1f}'.format(int(y)) + ' $M^3$'))\n",
    "ax.set_title('Total amount of water delivered per shiptype')\n",
    "ax.set_ylabel('Water quantity (in $M^3$)')\n",
    "ax.set_xlabel('Type of shipment')\n",
    "\n",
    "# Then save a high-quality version of this image\n",
    "plt.savefig('../Plots/Evides/total_liters_by_shiptype_and_shipment_type.png', dpi=400)"
   ]
  },
  {
   "attachments": {},
   "cell_type": "markdown",
   "metadata": {},
   "source": [
    "This is quite interesting. We observe that each ship category is represented almost entirely (if not fully) in only one of the shipment size categories. This information could be crucially important in deciding ship routes, since the types of ships that are served on a route has a significant impact on the amount of water that the ship will need. Now, let's take a look at the amount of boats used per day."
   ]
  },
  {
   "cell_type": "code",
   "execution_count": null,
   "metadata": {},
   "outputs": [],
   "source": [
    "dates = list(set(evides['Datum'].values)) # We'll store dates here\n",
    "active_ships = [] # And the amount of active ships per date here\n",
    "\n",
    "# Add ship counts\n",
    "for i in dates:\n",
    "    active_ships.append(len(set(evides['Waterboot'][evides.Datum == i])))\n",
    "\n",
    "counts = [active_ships.count(x) for x in set(active_ships)]\n",
    "categories = [str(x) for x in set(active_ships)]\n",
    "\n",
    "for i in range(0, len(categories)):\n",
    "    categories[i] = categories[i] + \"\\n N={n} ({per}%)\".format(\n",
    "        n=counts[i],\n",
    "        per=round(counts[i] / sum(counts) * 100, 2))\n",
    "\n",
    "# Plot\n",
    "plt.figure(figsize=(14,9),dpi=100)\n",
    "plt.bar(categories, counts, color=\"gold\", ec='black')\n",
    "plt.ylabel('# days')\n",
    "plt.xlabel('Amount of ships')\n",
    "plt.title('Amount of active ships on a given day')\n",
    "plt.grid = True\n",
    "\n",
    "# Then save a high-quality version of this image\n",
    "plt.savefig('../Plots/Evides/count_activeships.png', dpi=400)"
   ]
  },
  {
   "attachments": {},
   "cell_type": "markdown",
   "metadata": {},
   "source": [
    "It is quite unexpected to see days on which only one or two boats were active. Let's dive into these days a bit more. "
   ]
  },
  {
   "cell_type": "code",
   "execution_count": null,
   "metadata": {},
   "outputs": [],
   "source": [
    "# Get dates for which this is true\n",
    "dates_of_interest = []\n",
    "\n",
    "for i in range(len(active_ships)):\n",
    "    if active_ships[i] < 4:\n",
    "        dates_of_interest.append(dates[i])\n",
    "\n",
    "df = pd.DataFrame(0, columns=['Weekday','Amount of water supplied'], index=dates_of_interest)\n",
    "df['Weekday'] = [datetime.strptime(x, '%Y-%m-%d') for x in df.index]\n",
    "df['Weekday'] = [datetime.strftime(x, '%A') for x in df['Weekday']]        \n",
    "df['Amount of water supplied'] = [evides['Hoeveelheid (m3)'][evides['Datum'] == x].sum() for x in df.index]\n",
    "\n",
    "df"
   ]
  },
  {
   "attachments": {},
   "cell_type": "markdown",
   "metadata": {},
   "source": [
    "This table perfectly explains each of the days on which a low amount of ships were active.\n",
    "* Saturdays and sundays are not part of the regular working days.\n",
    "* Monday 06-06-2022 is 'Tweede Pinksterdag', a holiday.\n",
    "* Friday 18-02-2022 saw a very bad storm called 'Eunice'. "
   ]
  },
  {
   "attachments": {},
   "cell_type": "markdown",
   "metadata": {},
   "source": [
    "Now, let's take a look at the used capacities of each boat. First, let us define the water tank capacities of each boat. "
   ]
  },
  {
   "cell_type": "code",
   "execution_count": null,
   "metadata": {},
   "outputs": [],
   "source": [
    "capacities = {\n",
    "    \"Waterbuffel\":103,\n",
    "    \"Watergeus\":103,\n",
    "    \"Waterman\":83,\n",
    "    \"Waterval\":83,\n",
    "    \"Watervogel\":140\n",
    "}"
   ]
  },
  {
   "attachments": {},
   "cell_type": "markdown",
   "metadata": {},
   "source": [
    "Then, we'll have to do some calculations in order to find out the used capacities throughout the year. We can filter out the dates found above, since they contain special days with very low numbers. "
   ]
  },
  {
   "cell_type": "code",
   "execution_count": null,
   "metadata": {},
   "outputs": [],
   "source": [
    "evides = evides[~evides['Datum'].isin(dates_of_interest)]"
   ]
  },
  {
   "cell_type": "code",
   "execution_count": null,
   "metadata": {},
   "outputs": [],
   "source": [
    "# Initialize empty dictionary\n",
    "data = {}\n",
    "\n",
    "# Create \n",
    "for i in list(set(evides['Datum'].values)):\n",
    "    data[i] = {'Liters':{}, 'Capacity':{}}\n",
    "\n",
    "    for j in list(set(evides['Waterboot'].values)):\n",
    "       liters = evides['Hoeveelheid (m3)'][(evides['Waterboot']==j) & (evides['Datum']==i)].sum()\n",
    "       data[i]['Liters'][j] = liters\n",
    "       if liters > 0:\n",
    "           data[i]['Capacity'][j] = round(liters / capacities[j], 2) \n",
    "       else:\n",
    "           data[i]['Capacity'][j] = None\n",
    "data\n",
    "\n",
    "\n",
    "df = pd.DataFrame(0, columns=['Capacity (in M3)','Active days','Average daily capacity','Average total daily water amount (in M3)'], index=list(set(evides['Waterboot'].values)))"
   ]
  },
  {
   "attachments": {},
   "cell_type": "markdown",
   "metadata": {},
   "source": [
    "Now, let's use this data to create some plots! We'll start with the Waterman!"
   ]
  },
  {
   "cell_type": "code",
   "execution_count": null,
   "metadata": {},
   "outputs": [],
   "source": [
    "# Create hist data\n",
    "hist_data = [data[date]['Capacity']['Waterman'] for date in list(set(evides['Datum'].values)) if data[date]['Capacity']['Waterman'] != None]\n",
    "\n",
    "# Plot hist data\n",
    "fig, ax = plt.subplots(figsize=(10, 12),dpi=100)\n",
    "\n",
    "ax.hist(hist_data, ec=\"black\", color=\"cornflowerblue\", bins=25) \n",
    "ax.set_title(\"Distribution of the daily water tank capacity usage of the Waterman (DWS 14) \\n (Water capacity = {l} $m^3$, mean daily capacity = {meancap}, active days = {ndays})\".format(\n",
    "    l=capacities['Waterman'], \n",
    "    meancap=round(mean(hist_data),2),\n",
    "    ndays=len(hist_data)\n",
    "    ))\n",
    "ax.set_xlabel(\"Water tank capacity\")\n",
    "ax.set_ylabel(\"# Days\")\n",
    "ax.grid = True\n",
    "\n",
    "# Then save a high-quality version of this image\n",
    "plt.savefig('../Plots/Evides/capacity_histogram_water_Waterman.png', dpi=400)\n",
    "\n",
    "# Also add information to the dataframe\n",
    "boat = 'Waterman'\n",
    "liter_data = [data[date]['Liters'][boat] for date in list(set(evides['Datum'].values)) if data[date]['Liters'][boat] not in [None, 0]]\n",
    "df.loc[boat] = [capacities[boat], len(hist_data), round(mean(hist_data),2), round(mean(liter_data),2)]"
   ]
  },
  {
   "attachments": {},
   "cell_type": "markdown",
   "metadata": {},
   "source": [
    "Next, the Waterbuffel!"
   ]
  },
  {
   "cell_type": "code",
   "execution_count": null,
   "metadata": {},
   "outputs": [],
   "source": [
    "# Create hist data\n",
    "hist_data = [data[date]['Capacity']['Waterbuffel'] for date in list(set(evides['Datum'].values)) if data[date]['Capacity']['Waterbuffel'] != None]\n",
    "\n",
    "# Plot hist data\n",
    "fig, ax = plt.subplots(figsize=(10, 12),dpi=100)\n",
    "\n",
    "ax.hist(hist_data, ec=\"black\", color=\"cornflowerblue\", bins=25)\n",
    "ax.set_title(\"Distribution of the daily water tank capacity usage of the Waterbuffel (DWS 11) \\n (Water capacity = {l} $m^3$, mean daily capacity = {meancap}, active days = {ndays})\".format(\n",
    "    l=capacities['Waterbuffel'], \n",
    "    meancap=round(mean(hist_data),2),\n",
    "    ndays=len(hist_data)\n",
    "    ))\n",
    "ax.set_xlabel(\"Water tank capacity\")\n",
    "ax.set_ylabel(\"# Days\")\n",
    "\n",
    "# Then save a high-quality version of this image\n",
    "plt.savefig('../Plots/Evides/capacity_histogram_water_Waterbuffel.png', dpi=400)\n",
    "\n",
    "# Also add information to the dataframe\n",
    "boat = 'Waterbuffel'\n",
    "liter_data = [data[date]['Liters'][boat] for date in list(set(evides['Datum'].values)) if data[date]['Liters'][boat] not in [None, 0]]\n",
    "df.loc[boat] = [capacities[boat], len(hist_data), round(mean(hist_data),2), round(mean(liter_data),2)]"
   ]
  },
  {
   "attachments": {},
   "cell_type": "markdown",
   "metadata": {},
   "source": [
    "And the Watergeus!"
   ]
  },
  {
   "cell_type": "code",
   "execution_count": null,
   "metadata": {},
   "outputs": [],
   "source": [
    "# Create hist data\n",
    "hist_data = [data[date]['Capacity']['Watergeus'] for date in list(set(evides['Datum'].values)) if data[date]['Capacity']['Watergeus'] != None]\n",
    "\n",
    "# Plot hist data\n",
    "fig, ax = plt.subplots(figsize=(10, 12),dpi=100)\n",
    "\n",
    "ax.hist(hist_data, ec=\"black\", color=\"cornflowerblue\", bins=25)\n",
    "ax.set_title(\"Distribution of the daily water tank capacity usage of the Watergeus (DWS 10) \\n (Water capacity = {l} $m^3$, mean daily capacity = {meancap}, active days = {ndays})\".format(\n",
    "    l=capacities['Watergeus'], \n",
    "    meancap=round(mean(hist_data),2),\n",
    "    ndays=len(hist_data)\n",
    "    ))\n",
    "ax.set_xlabel(\"Water tank capacity\")\n",
    "ax.set_ylabel(\"# Days\")\n",
    "\n",
    "# Then save a high-quality version of this image\n",
    "plt.savefig('../Plots/Evides/capacity_histogram_water_Watergeus.png', dpi=400)\n",
    "\n",
    "# Also add information to the dataframe\n",
    "boat = 'Watergeus'\n",
    "liter_data = [data[date]['Liters'][boat] for date in list(set(evides['Datum'].values)) if data[date]['Liters'][boat] not in [None, 0]]\n",
    "df.loc[boat] = [capacities[boat], len(hist_data), round(mean(hist_data),2), round(mean(liter_data),2)]"
   ]
  },
  {
   "attachments": {},
   "cell_type": "markdown",
   "metadata": {},
   "source": [
    "And the Waterval"
   ]
  },
  {
   "cell_type": "code",
   "execution_count": null,
   "metadata": {},
   "outputs": [],
   "source": [
    "# Create hist data\n",
    "hist_data = [data[date]['Capacity']['Waterval'] for date in list(set(evides['Datum'].values)) if data[date]['Capacity']['Waterval'] != None]\n",
    "\n",
    "# Plot hist data\n",
    "fig, ax = plt.subplots(figsize=(10, 12),dpi=100)\n",
    "\n",
    "ax.hist(hist_data, ec=\"black\", color=\"cornflowerblue\", bins=25)\n",
    "ax.set_title(\"Distribution of the daily water tank capacity usage of the Waterval (DWS 15) \\n (Water capacity = {l} $m^3$, mean daily capacity = {meancap}, active days = {ndays})\".format(\n",
    "    l=capacities['Waterval'], \n",
    "    meancap=round(mean(hist_data),2),\n",
    "    ndays=len(hist_data)\n",
    "    ))\n",
    "ax.set_xlabel(\"Water tank capacity\")\n",
    "ax.set_ylabel(\"# Days\")\n",
    "\n",
    "# Then save a high-quality version of this image\n",
    "plt.savefig('../Plots/Evides/capacity_histogram_water_Waterval.png', dpi=400)\n",
    "\n",
    "# Also add information to the dataframe\n",
    "boat = 'Waterval'\n",
    "liter_data = [data[date]['Liters'][boat] for date in list(set(evides['Datum'].values)) if data[date]['Liters'][boat] not in [None, 0]]\n",
    "df.loc[boat] = [capacities[boat], len(hist_data), round(mean(hist_data),2), round(mean(liter_data),2)]"
   ]
  },
  {
   "attachments": {},
   "cell_type": "markdown",
   "metadata": {},
   "source": [
    "And finally, the Watervogel."
   ]
  },
  {
   "cell_type": "code",
   "execution_count": null,
   "metadata": {},
   "outputs": [],
   "source": [
    "# Create hist data\n",
    "hist_data = [data[date]['Capacity']['Watervogel'] for date in list(set(evides['Datum'].values)) if data[date]['Capacity']['Watervogel'] != None]\n",
    "\n",
    "# Calculate statistic\n",
    "print(\"Amount of days for which the watervogel used up less than 0.72 of its capacity:\", str(round(len([x for x in hist_data if x <= 0.72]) / len(hist_data), 4) * 100))\n",
    "\n",
    "# Plot hist data\n",
    "fig, ax = plt.subplots(figsize=(10, 12),dpi=100)\n",
    "\n",
    "ax.hist(hist_data, ec=\"black\", color=\"cornflowerblue\", bins=25)\n",
    "ax.set_title(\"Distribution of the daily water tank capacity usage of the Watervogel (DWS 12) \\n (Water capacity = {l} $m^3$, mean daily capacity = {meancap}, active days = {ndays})\".format(\n",
    "    l=capacities['Watervogel'], \n",
    "    meancap=round(mean(hist_data),2),\n",
    "    ndays=len(hist_data)\n",
    "    ))\n",
    "ax.set_xlabel(\"Water tank capacity\")\n",
    "ax.set_ylabel(\"# Days\")\n",
    "ax.yaxis.set_major_formatter(ticker.FuncFormatter(lambda y, pos: \n",
    "'{:.0f}'.format(int(y))))\n",
    "\n",
    "# Then save a high-quality version of this image\n",
    "plt.savefig('../Plots/Evides/capacity_histogram_water_Watervogel.png', dpi=400)\n",
    "\n",
    "# Also add information to the dataframe\n",
    "boat = 'Watervogel'\n",
    "liter_data = [data[date]['Liters'][boat] for date in list(set(evides['Datum'].values)) if data[date]['Liters'][boat] not in [None, 0]]\n",
    "df.loc[boat] = [capacities[boat], len(hist_data), round(mean(hist_data),2), round(mean(liter_data),2)]"
   ]
  },
  {
   "attachments": {},
   "cell_type": "markdown",
   "metadata": {},
   "source": [
    "We've also created a table that summarizes the information in the plots above."
   ]
  },
  {
   "cell_type": "code",
   "execution_count": null,
   "metadata": {},
   "outputs": [],
   "source": [
    "df"
   ]
  },
  {
   "attachments": {},
   "cell_type": "markdown",
   "metadata": {},
   "source": [
    "Finally, let's take a look at the amount of boats per district"
   ]
  },
  {
   "cell_type": "code",
   "execution_count": null,
   "metadata": {},
   "outputs": [],
   "source": [
    "wijken = pd.DataFrame(0, index=list(set(evides['Wijk'].values)), columns=[\"1 boat\", \"2 boats\", \"3 boats\", \"4 boats\", \"5 boats\"])\n",
    "\n",
    "for i in list(set(evides['Wijk'].values)):\n",
    "    n_boats = []\n",
    "    for j in list(set(evides['Datum'].values)):\n",
    "        n = len(set(evides['Waterboot'][(evides['Datum']==j) & (evides['Wijk']==i)].values))\n",
    "        n_boats.append(n)\n",
    "\n",
    "    wijken.loc[i] = [n_boats.count(n) for n in range(1,6)]\n",
    "\n",
    "pd.options.mode.chained_assignment = None\n",
    "evides['Datum'] = [datetime.strptime(x, '%Y-%m-%d') for x in evides.Datum] # In order to make comparisons, we'll need to use a datetime format\n",
    "\n",
    "wijken.index = ['District 1', 'District 2', 'District 3', 'District 4']   \n",
    "wijken"
   ]
  },
  {
   "attachments": {},
   "cell_type": "markdown",
   "metadata": {},
   "source": [
    "The results make some sense, since most of the boats start and end their day in district 1. However, even in the other districts there are quite some days on which two, or even three boats are active. This is something to consider when answering the research questions. "
   ]
  },
  {
   "attachments": {},
   "cell_type": "markdown",
   "metadata": {},
   "source": [
    "Let's create some more interesting tables. This table shows some insights with regards to the different metrics for different vessel types. "
   ]
  },
  {
   "cell_type": "code",
   "execution_count": null,
   "metadata": {},
   "outputs": [],
   "source": [
    "boten = ['Waterbuffel', 'Watergeus', 'Waterman', 'Waterval', 'Watervogel']\n",
    "df = pd.DataFrame(0, columns=['Amount of shipments', 'Share in total shipments', 'Total amount of water supplied', 'Share in total amount of water supplied', 'Mean amount of water per shipment'], index=list(set(evides['Scheepstype'].values)))\n",
    "\n",
    "for i in df.index:\n",
    "    df.loc[i] = [len(evides[evides['Scheepstype']==i]), \n",
    "                 round(len(evides[evides['Scheepstype']==i]) / len(evides), 4) * 100,\n",
    "                 evides['Hoeveelheid (m3)'][evides['Scheepstype']==i].sum(),\n",
    "                 round(evides['Hoeveelheid (m3)'][evides['Scheepstype']==i].sum() / evides['Hoeveelheid (m3)'].sum(), 4) * 100,\n",
    "                 round(evides['Hoeveelheid (m3)'][evides['Scheepstype']==i].mean(), 2)]\n",
    "    \n",
    "df.loc['Total'] = [df[x].sum() for x in df]\n",
    "df"
   ]
  },
  {
   "attachments": {},
   "cell_type": "markdown",
   "metadata": {},
   "source": [
    "And another one. A table that shows the % of water deliverd per district and ship type (in $M^3$). "
   ]
  },
  {
   "cell_type": "code",
   "execution_count": null,
   "metadata": {},
   "outputs": [],
   "source": [
    "df = pd.DataFrame(0, columns=['District 1', 'District 2', 'District 3', 'District 4'], index=list(set(evides['Scheepstype'].values)))\n",
    "\n",
    "for i in df.index:\n",
    "    df.loc[i] = [round(evides['Hoeveelheid (m3)'][(evides['Scheepstype']==i) & (evides['Wijk']=='1')].sum() / evides['Hoeveelheid (m3)'][evides['Wijk']=='1'].sum(), 4) * 100,\n",
    "                round(evides['Hoeveelheid (m3)'][(evides['Scheepstype']==i) & (evides['Wijk']=='2')].sum() / evides['Hoeveelheid (m3)'][evides['Wijk']=='2'].sum(), 4) * 100,\n",
    "                round(evides['Hoeveelheid (m3)'][(evides['Scheepstype']==i) & (evides['Wijk']=='3')].sum() / evides['Hoeveelheid (m3)'][evides['Wijk']=='3'].sum(), 4) * 100,\n",
    "                round(evides['Hoeveelheid (m3)'][(evides['Scheepstype']==i) & (evides['Wijk']=='4')].sum() / evides['Hoeveelheid (m3)'][evides['Wijk']=='4'].sum(), 4) * 100]\n",
    "    \n",
    "df.loc['Total'] = [df[x].sum() for x in df]\n",
    "df"
   ]
  },
  {
   "attachments": {},
   "cell_type": "markdown",
   "metadata": {},
   "source": [
    "And one more. Same table, but showing the % of water shipments per district and ship type. "
   ]
  },
  {
   "cell_type": "code",
   "execution_count": null,
   "metadata": {},
   "outputs": [],
   "source": [
    "df = pd.DataFrame(0, columns=['District 1', 'District 2', 'District 3', 'District 4'], index=list(set(evides['Scheepstype'].values)))\n",
    "\n",
    "for i in df.index:\n",
    "    df.loc[i] = [round(len(evides[(evides['Scheepstype']==i) & (evides['Wijk']=='1')]) / len(evides[evides['Wijk']=='1']), 4) * 100, \n",
    "                round(len(evides[(evides['Scheepstype']==i) & (evides['Wijk']=='2')]) / len(evides[evides['Wijk']=='2']), 4) * 100,\n",
    "                round(len(evides[(evides['Scheepstype']==i) & (evides['Wijk']=='3')]) / len(evides[evides['Wijk']=='3']), 4) * 100,\n",
    "                round(len(evides[(evides['Scheepstype']==i) & (evides['Wijk']=='4')]) / len(evides[evides['Wijk']=='4']), 4) * 100]\n",
    "    \n",
    "df.loc['Total'] = [df[x].sum() for x in df]\n",
    "df"
   ]
  },
  {
   "attachments": {},
   "cell_type": "markdown",
   "metadata": {},
   "source": [
    "Let's also look at the capacities on days with 4 boats active and with 5 boats active, seperately."
   ]
  },
  {
   "cell_type": "code",
   "execution_count": null,
   "metadata": {},
   "outputs": [],
   "source": [
    "# Initialize variables\n",
    "dates = list(set(evides['Datum'].values)) # We'll store dates here\n",
    "split_capacities = {\n",
    "                    'Waterbuffel':{4:[], 5:[]},\n",
    "                    'Watergeus':{4:[], 5:[]},\n",
    "                    'Waterman':{4:[], 5:[]},\n",
    "                    'Waterval':{4:[], 5:[]},\n",
    "                    'Watervogel':{4:[], 5:[]}\n",
    "                    }\n",
    "\n",
    "# Add ship counts\n",
    "for i in dates:\n",
    "    n_boats = len(set(evides['Waterboot'][evides.Datum == i]))\n",
    "\n",
    "    for j in boten:\n",
    "        cap = round(evides['Hoeveelheid (m3)'][(evides['Waterboot'] == j) & (evides['Datum'] == i)].sum() / capacities[j], 2)\n",
    "\n",
    "        if cap > 0:\n",
    "            split_capacities[j][n_boats].append(cap)\n",
    "\n",
    "        else:\n",
    "            pass\n",
    "\n",
    "\n",
    "split_capacities "
   ]
  },
  {
   "cell_type": "code",
   "execution_count": null,
   "metadata": {},
   "outputs": [],
   "source": [
    "# Now pull the information out of the dict\n",
    "row1 = [round(mean(split_capacities[j][4]), 2) for j in boten]\n",
    "row2 = [round(mean(split_capacities[j][5]), 2) for j in boten]\n",
    "\n",
    "df = pd.DataFrame([row1,row2], index=[4,5], columns=boten)\n",
    "df"
   ]
  },
  {
   "attachments": {},
   "cell_type": "markdown",
   "metadata": {},
   "source": [
    "No significant differences here! What about on days where the watervogel specifically is inactive? "
   ]
  },
  {
   "cell_type": "code",
   "execution_count": null,
   "metadata": {},
   "outputs": [],
   "source": [
    "split_capacities = {\n",
    "                    'Waterbuffel':[],\n",
    "                    'Watergeus':[],\n",
    "                    'Waterman':[],\n",
    "                    'Waterval':[],\n",
    "                    'Watervogel':[]\n",
    "                    }\n",
    "\n",
    "for i in dates:\n",
    "    n_boats = len(set(evides['Waterboot'][evides.Datum == i]))\n",
    "    cap_watervogel = round(evides['Hoeveelheid (m3)'][(evides['Waterboot'] == 'Watervogel') & (evides['Datum'] == i)].sum() / capacities[j], 2)\n",
    "\n",
    "    if n_boats == 4 and cap_watervogel == 0:\n",
    "        for j in boten:\n",
    "            cap = round(evides['Hoeveelheid (m3)'][(evides['Waterboot'] == j) & (evides['Datum'] == i)].sum() / capacities[j], 2)\n",
    "\n",
    "            if cap > 0:\n",
    "                split_capacities[j].append(cap)\n",
    "\n",
    "            else:\n",
    "                pass\n",
    "\n",
    "# Add it to our previous table\n",
    "row3 = [round(mean(split_capacities[j]), 2) for j in ['Waterbuffel', 'Watergeus', 'Waterman', 'Waterval']]\n",
    "row3.append(None)\n",
    "df.loc['Watervogel (DWS 12) inactive'] = row3\n",
    "\n",
    "df"
   ]
  },
  {
   "attachments": {},
   "cell_type": "markdown",
   "metadata": {},
   "source": [
    "Let's turn it into a line plot. "
   ]
  },
  {
   "cell_type": "code",
   "execution_count": null,
   "metadata": {},
   "outputs": [],
   "source": [
    "# Get data\n",
    "data = {}\n",
    "\n",
    "# Create \n",
    "for i in list(set(evides['Datum'].values)):\n",
    "    data[i] = {'Liters':{}, 'Capacity':{}}\n",
    "\n",
    "    for j in list(set(evides['Waterboot'].values)):\n",
    "       liters = evides['Hoeveelheid (m3)'][(evides['Waterboot']==j) & (evides['Datum']==i)].sum()\n",
    "       data[i]['Liters'][j] = liters\n",
    "       if liters > 0:\n",
    "           data[i]['Capacity'][j] = round(liters / capacities[j], 2) \n",
    "       else:\n",
    "           data[i]['Capacity'][j] = None\n",
    "data\n",
    "\n",
    "# Initialize dataframe\n",
    "df = pd.DataFrame(0, columns=boten, index=dates)\n",
    "\n",
    "for i in dates:\n",
    "    df.loc[i] = [data[i]['Capacity'][boat] for boat in boten]\n",
    "\n",
    "df['Day'] = [x.date() for x in df.index]\n",
    "df['Cap'] = [1 for x in df.index]\n",
    "df['Month'] = [x.strftime('%B') for x in df.index]\n",
    "df = df.sort_values(by='Day', ascending=True)"
   ]
  },
  {
   "attachments": {},
   "cell_type": "markdown",
   "metadata": {},
   "source": [
    "Now, let's create our line plot. "
   ]
  },
  {
   "cell_type": "code",
   "execution_count": null,
   "metadata": {},
   "outputs": [],
   "source": [
    "for i in months:    \n",
    "    ig, ax = plt.subplots(figsize=(16,9),dpi=100)\n",
    "\n",
    "    ax.plot(df['Day'][df['Month']==i], df['Waterman'][df['Month']==i], label=\"Waterman\", linestyle='none', marker='o', color='c')\n",
    "    ax.plot(df['Day'][df['Month']==i], df['Watervogel'][df['Month']==i], label=\"Watervogel\", linestyle='none', marker='o', color='b')\n",
    "    ax.plot(df['Day'][df['Month']==i], df['Waterbuffel'][df['Month']==i], label=\"Waterbuffel\", linestyle='none', marker='o', color='m')\n",
    "    ax.plot(df['Day'][df['Month']==i], df['Waterval'][df['Month']==i], label=\"Waterval\", linestyle='none', marker='o', color='y')\n",
    "    ax.plot(df['Day'][df['Month']==i], df['Watergeus'][df['Month']==i], label=\"Watergeus\", linestyle='none', marker='o', color='k')\n",
    "    ax.plot(df['Day'][df['Month']==i], df['Cap'][df['Month']==i], label=\"Capacity of 1.0\", linestyle='solid', color='r')\n",
    "\n",
    "    ax.legend(loc=\"upper center\", bbox_to_anchor=(0.5, -0.10), ncol=3, fancybox=3, shadow=True, title=\"Water boat\")\n",
    "    ax.set_xlabel('Dates')\n",
    "    ax.set_ylabel('Capacity')\n",
    "\n",
    "    box = ax.get_position()\n",
    "    ax.set_position([box.x0, box.y0 + box.height * 0.15,\n",
    "                 box.width, box.height * 0.85])\n",
    "    \n",
    "    ax.set_title('Capacity per day and water supply boat - {month}'.format(month=i))\n",
    "    ax.grid(True)\n",
    "\n",
    "    plt.gca().xaxis.set_major_formatter(mdates.DateFormatter('%d-%m-%Y'))\n",
    "    plt.gca().xaxis.set_major_locator(mdates.DayLocator())\n",
    "\n",
    "    plt.gca().xaxis.set_major_locator(mdates.DayLocator(interval=1))\n",
    "    plt.gcf().autofmt_xdate()\n",
    "    plt.margins(x=0.005)\n",
    "\n",
    "    plt.savefig('../Plots/Evides/Capacity dotplots/dotplot_{month}'.format(month=i), dpi=400)"
   ]
  },
  {
   "attachments": {},
   "cell_type": "markdown",
   "metadata": {},
   "source": [
    "Finally, let's take a look at frequently occurring shipments. "
   ]
  },
  {
   "cell_type": "code",
   "execution_count": null,
   "metadata": {},
   "outputs": [],
   "source": [
    "def ProduceShipmentPlots(ENI):\n",
    "    print(\"ENI: {eni}\".format(eni=ENI))\n",
    "\n",
    "    #dates_of_interest = [(datum + timedelta(days=n)) for n in range(0, n+1)]\n",
    "    #  & evides['Datum'].isin(dates_of_interest)\n",
    "    \n",
    "    # Find subset of data\n",
    "    subset = evides[(evides['ENI']==ENI)]\n",
    "\n",
    "    ig, ax = plt.subplots(figsize=(16,9),dpi=100)\n",
    "\n",
    "    ax.plot(subset['Datum'], subset['Hoeveelheid (m3)'], linestyle='none', marker='o', color='b')\n",
    "    ax.set_xlabel('Weeks')\n",
    "    ax.set_ylabel('Water amount (in $m^3$)')\n",
    "\n",
    "    ax.set_title('Shipments per boat - ENI {boat}'.format(boat=ENI))\n",
    "    ax.grid(True)\n",
    "\n",
    "    plt.gca().xaxis.set_major_formatter(mdates.DateFormatter('%d-%m-%Y'))\n",
    "    plt.gca().xaxis.set_major_locator(mdates.DayLocator())\n",
    "    plt.gca().xaxis.set_major_locator(mdates.DayLocator(interval=7))\n",
    "    plt.gcf().autofmt_xdate()\n",
    "    plt.margins(x=0.005)\n",
    "\n",
    "    plt.savefig('../Plots/Evides/Individual ships/ENI_{month}'.format(month=ENI), dpi=400)\n",
    "\n",
    "# And test it!\n",
    "ProduceShipmentPlots('02005415')"
   ]
  },
  {
   "attachments": {},
   "cell_type": "markdown",
   "metadata": {},
   "source": [
    "Now let's recreate this function once more to calculate the dates between shipments. "
   ]
  },
  {
   "cell_type": "code",
   "execution_count": null,
   "metadata": {},
   "outputs": [],
   "source": [
    "def CalculateDistances(ENI):\n",
    "    print(\"ENI: {eni}\".format(eni=ENI))\n",
    "\n",
    "    # Find subset of data\n",
    "    subset = evides[(evides['ENI']==ENI)]\n",
    "    dates = subset['Datum'].values\n",
    "\n",
    "    records = {}\n",
    "\n",
    "    for i in range(1, len(dates)):\n",
    "        string = \"[{date1}, {date2}]\".format(date1=dates[i], date2=dates[i-1])\n",
    "        diff = (pd.to_datetime(dates[i])-pd.to_datetime(dates[i-1]))\n",
    "        amount = subset['Hoeveelheid (m3)'][subset['Datum'].isin([dates[i], dates[i-1]])].sum()\n",
    "\n",
    "        records[string] = {\"days\":diff.days, \"combined_amount\":amount}\n",
    "\n",
    "    return(records)\n",
    "    \n",
    "# And test it!\n",
    "CalculateDistances(evides['ENI'][0])"
   ]
  },
  {
   "attachments": {},
   "cell_type": "markdown",
   "metadata": {},
   "source": [
    "Great, now let's run this for all individual boats in the dataset."
   ]
  },
  {
   "cell_type": "code",
   "execution_count": null,
   "metadata": {},
   "outputs": [],
   "source": [
    "distances = {}\n",
    "\n",
    "for i in set(evides['ENI']):\n",
    "    # Calculate distances\n",
    "    x = CalculateDistances(i)\n",
    "\n",
    "    # Discard ENI if they've only received one shipment in the full year\n",
    "    if len(x) != 0:\n",
    "        distances[i] = CalculateDistances(i)\n",
    "\n",
    "distances"
   ]
  },
  {
   "attachments": {},
   "cell_type": "markdown",
   "metadata": {},
   "source": [
    "Now, let's extract the information we need."
   ]
  },
  {
   "cell_type": "code",
   "execution_count": null,
   "metadata": {},
   "outputs": [],
   "source": [
    "df = pd.DataFrame(0, columns= [1, 2, 3, 4, 5, 6, 7], index=[7, 8, 9, 10, 11, 12])\n",
    "\n",
    "n_days = []\n",
    "for i in distances:\n",
    "    for j in distances[i]:\n",
    "        days = int(distances[i][j]['days'])\n",
    "        amount = int(distances[i][j]['combined_amount'])\n",
    "\n",
    "        if amount <= 12 and days <= 7 and amount > 6 and days > 0:\n",
    "            df.at[amount, days] = df.at[amount, days] + 1\n",
    "\n",
    "df"
   ]
  },
  {
   "attachments": {},
   "cell_type": "markdown",
   "metadata": {},
   "source": [
    "With this table, it's important to note the following.\n",
    "* It only considers pairs of shipments. It's very well possible that three shipments happened within one week, for a total of 13 liters. In this case, this is not recorded. \n",
    "* [7,1] having the value 3 means that on 3 days, 7 liters were provided over two shipments with one day between the shipments. \n",
    "* Oddly enough, there are also quite some ships who already received more than 6 $m^3$ on the same day. \n",
    "\n",
    "Let's dive into this a bit deeper. "
   ]
  },
  {
   "cell_type": "code",
   "execution_count": null,
   "metadata": {},
   "outputs": [],
   "source": [
    "df['N'] = [round(x,2) for x in df.sum(axis=1)]\n",
    "df['%'] = round(df['N'] / sum(df['N']), 4) * 100\n",
    "df['N cum'] = [sum(df['N'][0:x]) for x in range(1, len(df)+1)]\n",
    "df['% cum'] = [sum(df['%'][0:x]) for x in range(1, len(df)+1)]\n",
    "\n",
    "df"
   ]
  },
  {
   "attachments": {},
   "cell_type": "markdown",
   "metadata": {},
   "source": [
    "Add some more distribution plots for the individual ships"
   ]
  },
  {
   "cell_type": "code",
   "execution_count": null,
   "metadata": {},
   "outputs": [],
   "source": [
    "# Create hist data\n",
    "hist_data = [x for x in evides['Hoeveelheid (m3)'][evides['Scheepstype']=='Containerschip']]\n",
    "bar_data_xaxis = [x for x in set(hist_data)]\n",
    "bar_data_yaxis = [len([x for x in hist_data if x == y]) for y in bar_data_xaxis]\n",
    "\n",
    "# How many shipments in total below or equal to 6?\n",
    "p_sixorbelow = sum([x for x in bar_data_yaxis])/len(hist_data) * 100\n",
    "p_sixorbelow = round(p_sixorbelow, 2)\n",
    "\n",
    "# Plot hist data\n",
    "fig, ax = plt.subplots(figsize=(10, 12),dpi=100)\n",
    "\n",
    "binwidth = 1\n",
    "ax.bar(x=bar_data_xaxis, height=bar_data_yaxis, ec=\"black\", color=\"mediumspringgreen\")\n",
    "ax.set_title(\"Distribution of drinking water quantity (in $m^3$) supplied to vessels of type 'container ship'\")\n",
    "ax.set_xlabel(\"Water quantity (in $m^3$)\")\n",
    "ax.set_ylabel(\"Amount of shipments\")\n",
    "ax.yaxis.set_major_formatter(ticker.FuncFormatter(lambda y, pos: \n",
    "'{:.0f}'.format(int(y))))\n",
    "\n",
    "# Then save a high-quality version of this image\n",
    "plt.savefig('../Plots/Evides/shipments_containership.png', dpi=400)"
   ]
  },
  {
   "cell_type": "code",
   "execution_count": null,
   "metadata": {},
   "outputs": [],
   "source": [
    "# Create hist data\n",
    "hist_data = [x for x in evides['Hoeveelheid (m3)'][evides['Scheepstype']=='Tanker']]\n",
    "bar_data_xaxis = [x for x in set(hist_data) if x <= 6]\n",
    "bar_data_yaxis = [len([x for x in hist_data if x == y]) for y in bar_data_xaxis] \n",
    "\n",
    "# How many shipments in total below or equal to 6?\n",
    "p_sixorbelow = sum([x for x in bar_data_yaxis])/len(hist_data) * 100\n",
    "p_sixorbelow = round(p_sixorbelow, 2)\n",
    "\n",
    "# Plot hist data\n",
    "fig, ax = plt.subplots(figsize=(10, 12),dpi=100)\n",
    "\n",
    "binwidth = 1\n",
    "ax.bar(x=bar_data_xaxis, height=bar_data_yaxis, ec=\"black\", color=\"orangered\")\n",
    "ax.set_title(\"Distribution of drinking water quantity (in $m^3$) supplied to vessels of type 'tanker' \\n This plot includes {p} % of total shipments to this vessel type.\".format(p=p_sixorbelow))\n",
    "ax.set_xlabel(\"Water quantity (in $m^3$)\")\n",
    "ax.set_ylabel(\"Amount of shipments\")\n",
    "ax.yaxis.set_major_formatter(ticker.FuncFormatter(lambda y, pos: \n",
    "'{:.0f}'.format(int(y))))\n",
    "\n",
    "# Then save a high-quality version of this image\n",
    "plt.savefig('../Plots/Evides/shipments_tanker.png', dpi=400)"
   ]
  },
  {
   "cell_type": "code",
   "execution_count": null,
   "metadata": {},
   "outputs": [],
   "source": [
    "# Create hist data\n",
    "hist_data = [x for x in evides['Hoeveelheid (m3)'][evides['Scheepstype']=='Beunschip (zand en grind)']]\n",
    "bar_data_xaxis = [x for x in set(hist_data) if x <= 6]\n",
    "bar_data_yaxis = [len([x for x in hist_data if x == y]) for y in bar_data_xaxis] \n",
    "\n",
    "# How many shipments in total below or equal to 6?\n",
    "p_sixorbelow = sum([x for x in bar_data_yaxis])/len(hist_data) * 100\n",
    "p_sixorbelow = round(p_sixorbelow, 2)\n",
    "\n",
    "# Plot hist data\n",
    "fig, ax = plt.subplots(figsize=(10, 12),dpi=100)\n",
    "\n",
    "binwidth = 1\n",
    "ax.bar(x=bar_data_xaxis, height=bar_data_yaxis, ec=\"black\", color=\"yellow\")\n",
    "ax.set_title(\"Distribution of drinking water quantity (in $m^3$) supplied to vessels of type 'beunschip' (barge) \\n This plot includes {p} % of total shipments to this vessel type.\".format(p=p_sixorbelow))\n",
    "ax.set_xlabel(\"Water quantity (in $m^3$)\")\n",
    "ax.set_ylabel(\"Amount of shipments\")\n",
    "ax.yaxis.set_major_formatter(ticker.FuncFormatter(lambda y, pos: \n",
    "'{:.0f}'.format(int(y))))\n",
    "\n",
    "# Then save a high-quality version of this image\n",
    "plt.savefig('../Plots/Evides/shipments_beunschip.png', dpi=400)"
   ]
  },
  {
   "attachments": {},
   "cell_type": "markdown",
   "metadata": {},
   "source": [
    "Since we've made some more changes to the data, let's save it again. "
   ]
  },
  {
   "cell_type": "code",
   "execution_count": null,
   "metadata": {},
   "outputs": [],
   "source": [
    "evides.to_csv('../Data/Cleaned data/evides_cleaned2.csv')"
   ]
  }
 ],
 "metadata": {
  "kernelspec": {
   "display_name": "Python 3",
   "language": "python",
   "name": "python3"
  },
  "language_info": {
   "codemirror_mode": {
    "name": "ipython",
    "version": 3
   },
   "file_extension": ".py",
   "mimetype": "text/x-python",
   "name": "python",
   "nbconvert_exporter": "python",
   "pygments_lexer": "ipython3",
   "version": "3.9.6"
  },
  "orig_nbformat": 4,
  "vscode": {
   "interpreter": {
    "hash": "9d4ed44c6a2a13ca6ab9393ffa30cf54197e027a07f139da5103fcdd4e6439bc"
   }
  }
 },
 "nbformat": 4,
 "nbformat_minor": 2
}
