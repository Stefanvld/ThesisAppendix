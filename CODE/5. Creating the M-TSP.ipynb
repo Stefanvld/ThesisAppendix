{
 "cells": [
  {
   "attachments": {},
   "cell_type": "markdown",
   "metadata": {},
   "source": [
    "Install modules"
   ]
  },
  {
   "cell_type": "code",
   "execution_count": null,
   "metadata": {},
   "outputs": [],
   "source": [
    "import gurobipy as gp\n",
    "from gurobipy import GRB\n",
    "import pandas as pd\n",
    "import math"
   ]
  },
  {
   "attachments": {},
   "cell_type": "markdown",
   "metadata": {},
   "source": [
    "Redefine Haversine formula"
   ]
  },
  {
   "cell_type": "code",
   "execution_count": null,
   "metadata": {},
   "outputs": [],
   "source": [
    "def CalculateDistance(LOC1: list, LOC2: list):\n",
    "    \"\"\"Calculate the haversine distance between two sets of latitude and longitude coordinates.\"\"\"\n",
    "    # Convert latitude and longitude from degrees to radians\n",
    "    lat1, lon1 = math.radians(LOC1[0]), math.radians(LOC1[1])\n",
    "    lat2, lon2 = math.radians(LOC2[0]), math.radians(LOC2[1])\n",
    "\n",
    "    # Haversine formula\n",
    "    dlat = lat2 - lat1\n",
    "    dlon = lon2 - lon1\n",
    "    a = (math.sin(dlat / 2) ** 2) + math.cos(lat1) * math.cos(lat2) * (math.sin(dlon / 2) ** 2)\n",
    "    c = 2 * math.atan2(math.sqrt(a), math.sqrt(1 - a))\n",
    "\n",
    "    # Earth's mean radius in kilometers (6371 km)\n",
    "    R = 6371\n",
    "    distance = R * c\n",
    "\n",
    "    return distance"
   ]
  },
  {
   "attachments": {},
   "cell_type": "markdown",
   "metadata": {},
   "source": [
    "Define inputs for working example #1"
   ]
  },
  {
   "cell_type": "code",
   "execution_count": null,
   "metadata": {},
   "outputs": [],
   "source": [
    "optimization_input = {\n",
    "    'WB_percentage':0.60,\n",
    "    'SupplyBoats':{\n",
    "        'Boat 1':30, # this refers to water capacity\n",
    "        'Boat 2':25\n",
    "    },\n",
    "    'Depots':{\n",
    "        'Starting':{\n",
    "            'SDP1':{\n",
    "                'Loc':[51.96237, 4.13898],\n",
    "                'Cap':3,\n",
    "            },\n",
    "            'SDP2':{\n",
    "                'Loc':[51.89795, 4.46795],\n",
    "                'Cap':3\n",
    "            }\n",
    "        },\n",
    "    'Ending':{\n",
    "            'EDP1':{\n",
    "            'Loc':[51.96237, 4.13898],\n",
    "            'Cap':1,\n",
    "        },\n",
    "        'EDP2':{\n",
    "            'Loc':[51.89795, 4.46795],\n",
    "            'Cap':1\n",
    "        }\n",
    "    }\n",
    "\n",
    "    },\n",
    "    'SupplyPoints':{\n",
    "        'SP1':[51.961, 4.14023],\n",
    "        'SP2':[51.89839, 4.46226],\n",
    "        'SP3':[51.89084, 4.31179]\n",
    "    },\n",
    "    'Shipments':{\n",
    "        'S1':{\n",
    "            'Loc':[51.9641, 3.97697],\n",
    "            'WaterAmount':6\n",
    "            },\n",
    "        'S2':{\n",
    "            'Loc':[51.9629, 4.07149],\n",
    "            'WaterAmount':7\n",
    "            },\n",
    "        'S3':{\n",
    "            'Loc':[51.92351, 4.20735],\n",
    "            'WaterAmount':12\n",
    "            },\n",
    "        'S4':{\n",
    "            'Loc':[51.90049, 4.28357],\n",
    "            'WaterAmount':4\n",
    "            },\n",
    "        'S5':{\n",
    "            'Loc':[51.88174, 4.27193],\n",
    "            'WaterAmount':8\n",
    "            },\n",
    "        'S6':{\n",
    "            'Loc':[51.87875, 4.29812],\n",
    "            'WaterAmount':3\n",
    "            },\n",
    "        'S7':{\n",
    "            'Loc':[51.89802, 4.3507],\n",
    "            'WaterAmount':5\n",
    "            },\n",
    "        'S8':{\n",
    "            'Loc':[51.88573, 4.44271],\n",
    "            'WaterAmount':8\n",
    "            },\n",
    "        'S9':{\n",
    "            'Loc':[51.8981, 4.48526],\n",
    "            'WaterAmount':4\n",
    "            },\n",
    "        'S10':{\n",
    "            'Loc':[51.91737, 4.50551],\n",
    "            'WaterAmount':12\n",
    "            }\n",
    "    },\n",
    "}\n",
    "\n",
    "# Derive locations in one dict\n",
    "locations = {x:optimization_input['Shipments'][x]['Loc'] for x in optimization_input['Shipments']}\n",
    "locations.update({x:optimization_input['SupplyPoints'][x] for x in optimization_input['SupplyPoints']})\n",
    "locations.update({x:optimization_input['Depots']['Starting'][x]['Loc'] for x in optimization_input['Depots']['Starting']})\n",
    "locations.update({x:optimization_input['Depots']['Ending'][x]['Loc'] for x in optimization_input['Depots']['Ending']})\n",
    "\n",
    "locations"
   ]
  },
  {
   "attachments": {},
   "cell_type": "markdown",
   "metadata": {},
   "source": [
    "We'll now create the model. We'll start with our decision matrix X and our cost matrix C. "
   ]
  },
  {
   "cell_type": "code",
   "execution_count": null,
   "metadata": {},
   "outputs": [],
   "source": [
    "# Create model\n",
    "model = gp.Model()\n",
    "\n",
    "# Create cost matrix C\n",
    "shipments = [x for x in optimization_input['Shipments']] \n",
    "sdepots = [x for x in optimization_input['Depots']['Starting']]\n",
    "edepots = [x for x in optimization_input['Depots']['Ending']]\n",
    "supplypoints = [x for x in optimization_input['SupplyPoints']]\n",
    "indexes = shipments + sdepots + edepots + supplypoints\n",
    "\n",
    "C = {}\n",
    "for i in indexes:\n",
    "    for j in indexes:\n",
    "        C[i, j] = CalculateDistance(locations[i], locations[j])\n",
    "\n",
    "C"
   ]
  },
  {
   "attachments": {},
   "cell_type": "markdown",
   "metadata": {},
   "source": [
    "We'll create our decision matrices X and we'll immediately specify that this matrix contains binary decision variables."
   ]
  },
  {
   "cell_type": "code",
   "execution_count": null,
   "metadata": {},
   "outputs": [],
   "source": [
    "# Extract supplyboats\n",
    "supplyboats = [x for x in optimization_input['SupplyBoats']]\n",
    "supplyboats\n",
    "\n",
    "# Create decision variable matrix X\n",
    "X = {}\n",
    "for s in supplyboats:\n",
    "    for i in indexes:\n",
    "        for j in indexes:\n",
    "            X[i, j, s] = model.addVar(vtype=gp.GRB.BINARY)\n",
    "            \n",
    "X\n",
    "\n",
    "# Add X to the model\n",
    "#model.addVars(X, vtype=gp.GRB.BINARY, name=\"X\")"
   ]
  },
  {
   "attachments": {},
   "cell_type": "markdown",
   "metadata": {},
   "source": [
    "Now, let's define the objective function."
   ]
  },
  {
   "cell_type": "code",
   "execution_count": null,
   "metadata": {},
   "outputs": [],
   "source": [
    "model.setObjective(gp.quicksum(X[i,j,s] * C[i,j] for i in indexes for j in indexes for s in supplyboats),gp.GRB.MINIMIZE)"
   ]
  },
  {
   "attachments": {},
   "cell_type": "markdown",
   "metadata": {},
   "source": [
    "Constraint(s): each **shipment** location needs to be visited exactly once. "
   ]
  },
  {
   "cell_type": "code",
   "execution_count": null,
   "metadata": {},
   "outputs": [],
   "source": [
    "model.addConstrs(gp.quicksum(X[i,j,s] for s in supplyboats for i in indexes if i !=j) == 1 for j in shipments)\n",
    "model.addConstrs(gp.quicksum(X[i,j,s] for s in supplyboats for j in indexes if i !=j) == 1 for i in shipments)"
   ]
  },
  {
   "attachments": {},
   "cell_type": "markdown",
   "metadata": {},
   "source": [
    "Constraints: ensure the continuity of the route and do not allow 2-node cycles."
   ]
  },
  {
   "cell_type": "code",
   "execution_count": null,
   "metadata": {},
   "outputs": [],
   "source": [
    "# Ensure continuity\n",
    "model.addConstrs(gp.quicksum(X[i,h,s] for i in indexes) - gp.quicksum(X[h,j,s] for j in indexes) == 0 for s in supplyboats for h in shipments + supplypoints)\n",
    "\n",
    "# Do not allow 1-node cycles\n",
    "model.addConstrs(gp.quicksum(X[i,i,s] for i in indexes) == 0 for s in supplyboats)\n",
    "\n",
    "# Do not allow subtours\n",
    "u = {}\n",
    "for i in shipments+supplypoints:\n",
    "    for s in supplyboats:\n",
    "        u[i, s] = model.addVar(vtype=GRB.INTEGER, lb=0, ub=len(shipments+supplypoints)-1, name=f'u_{i}_{s}')\n",
    "\n",
    "for i in shipments+supplypoints:\n",
    "    for s in supplyboats:\n",
    "        model.addConstr(u[i,s] >= 1)\n",
    "        model.addConstr(u[i,s] <= len(shipments+supplypoints)-1)\n",
    "\n",
    "    for j in shipments+supplypoints:\n",
    "        if i != j:\n",
    "            for s in supplyboats:\n",
    "                model.addConstr(u[i,s] - u[j,s] + len(shipments+supplypoints) * X[i,j,s] <= len(shipments+supplypoints) - 1)"
   ]
  },
  {
   "attachments": {},
   "cell_type": "markdown",
   "metadata": {},
   "source": [
    "Constraints: ensure the boats start at a starting depot and end at an ending depot. "
   ]
  },
  {
   "cell_type": "code",
   "execution_count": null,
   "metadata": {},
   "outputs": [],
   "source": [
    "model.addConstrs(gp.quicksum(X[i,j,s] for i in sdepots for j in indexes) == 1 for s in supplyboats)\n",
    "model.addConstrs(gp.quicksum(X[i,j,s] for j in sdepots for i in indexes) == 0 for s in supplyboats)"
   ]
  },
  {
   "cell_type": "code",
   "execution_count": null,
   "metadata": {},
   "outputs": [],
   "source": [
    "model.addConstrs(gp.quicksum(X[i,j,s] for i in edepots for j in indexes) == 0 for s in supplyboats)\n",
    "model.addConstrs(gp.quicksum(X[i,j,s] for j in edepots for i in indexes) == 1 for s in supplyboats)"
   ]
  },
  {
   "attachments": {},
   "cell_type": "markdown",
   "metadata": {},
   "source": [
    "Constraint: make sure that each supply boat supplies at maximum 60% of the total water delivered."
   ]
  },
  {
   "cell_type": "code",
   "execution_count": null,
   "metadata": {},
   "outputs": [],
   "source": [
    "model.addConstrs(gp.quicksum(X[i,j,s] * optimization_input['Shipments'][i]['WaterAmount'] for i in shipments for j in indexes) <= optimization_input['WB_percentage']*sum([optimization_input['Shipments'][x]['WaterAmount'] for x in optimization_input['Shipments']]) for s in supplyboats)"
   ]
  },
  {
   "attachments": {},
   "cell_type": "markdown",
   "metadata": {},
   "source": [
    "Constraint: per depot, only a given capacity $DC_i$ can start and end there.  "
   ]
  },
  {
   "cell_type": "code",
   "execution_count": null,
   "metadata": {},
   "outputs": [],
   "source": [
    "model.addConstrs(gp.quicksum(X[i,j,s] for j in indexes for s in supplyboats) <= optimization_input['Depots']['Starting'][i]['Cap'] for i in sdepots)\n",
    "model.addConstrs(gp.quicksum(X[i,j,s] for i in indexes for s in supplyboats) <= optimization_input['Depots']['Ending'][j]['Cap'] for j in edepots)"
   ]
  },
  {
   "attachments": {},
   "cell_type": "markdown",
   "metadata": {},
   "source": [
    "Constraint: let SDP_a be EDP_a for every supply boat."
   ]
  },
  {
   "cell_type": "code",
   "execution_count": null,
   "metadata": {},
   "outputs": [],
   "source": [
    "model.addConstrs(gp.quicksum(X['SDP{i}'.format(i=str(i+1)),j,s] for j in indexes) == gp.quicksum(X[j,'EDP{i}'.format(i=str(i+1)),s] for j in indexes) for i in range(1, len(sdepots)) for s in supplyboats) "
   ]
  },
  {
   "attachments": {},
   "cell_type": "markdown",
   "metadata": {},
   "source": [
    "Now, let's introduce a variable called Y which tracks the water tanks"
   ]
  },
  {
   "cell_type": "code",
   "execution_count": null,
   "metadata": {},
   "outputs": [],
   "source": [
    "# Add Y variables\n",
    "Y = {}\n",
    "for i in indexes:\n",
    "    for j in indexes:\n",
    "        for s in supplyboats:\n",
    "          Y[i,j,s] = model.addVar(vtype=gp.GRB.CONTINUOUS)\n",
    "\n",
    "Y"
   ]
  },
  {
   "attachments": {},
   "cell_type": "markdown",
   "metadata": {},
   "source": [
    "Add constraints that enforce the desired behaviour for Y"
   ]
  },
  {
   "cell_type": "code",
   "execution_count": null,
   "metadata": {},
   "outputs": [],
   "source": [
    "# Y cannot be more than the individual capacity of a waterboat\n",
    "model.addConstrs(Y[i,j,s] <= optimization_input['SupplyBoats'][s]*X[i,j,s] for i in indexes for j in indexes for s in supplyboats)\n",
    "\n",
    "# Y cannot be less than zero. \n",
    "model.addConstrs(Y[i,j,s] >= 0 for i in indexes for j in indexes for s in supplyboats)\n",
    "\n",
    "# Subtract the amount delivered at point i \n",
    "model.addConstrs(gp.quicksum(Y[j,i,s] for j in indexes if i != j for s in supplyboats) - gp.quicksum(Y[i,j,s] for j in indexes if i != j for s in supplyboats) == optimization_input['Shipments'][i]['WaterAmount'] for i in shipments)\n",
    "\n",
    "# Refill tank at supply points and depots\n",
    "model.addConstrs(Y[i,j,s] == optimization_input['SupplyBoats'][s]*X[i,j,s] for i in supplypoints+sdepots+edepots for j in indexes for s in supplyboats)"
   ]
  },
  {
   "attachments": {},
   "cell_type": "markdown",
   "metadata": {},
   "source": [
    "Run the model."
   ]
  },
  {
   "cell_type": "code",
   "execution_count": null,
   "metadata": {},
   "outputs": [],
   "source": [
    "model.update()\n",
    "model.optimize()\n",
    "#print(model.display())"
   ]
  },
  {
   "attachments": {},
   "cell_type": "markdown",
   "metadata": {},
   "source": [
    "Let's extract the solution."
   ]
  },
  {
   "cell_type": "code",
   "execution_count": null,
   "metadata": {},
   "outputs": [],
   "source": [
    "# Routes\n",
    "routes = {}\n",
    "for x in supplyboats:\n",
    "    routes[x] = []\n",
    "\n",
    "for x in X:\n",
    "    if X[x].X == 1:\n",
    "        routes[x[2]].append([x[0],x[1]])\n",
    "        \n",
    "routes"
   ]
  },
  {
   "attachments": {},
   "cell_type": "markdown",
   "metadata": {},
   "source": [
    "And let's sort the routes. "
   ]
  },
  {
   "cell_type": "code",
   "execution_count": null,
   "metadata": {},
   "outputs": [],
   "source": [
    "ordered_routes = {}\n",
    "\n",
    "for x in routes:\n",
    "    ordered_routes[x] = []\n",
    "    for y in routes[x]:\n",
    "        # Identify start\n",
    "        s = [z for z in routes[x] if z[1] == y[0]]\n",
    "\n",
    "        if len(s) == 0:\n",
    "            start = y\n",
    "            ordered_routes[x].append(start[0])\n",
    "\n",
    "    while len(ordered_routes[x]) != len(routes[x])+1:\n",
    "        # Find last index\n",
    "        current_length = len(ordered_routes[x])-1\n",
    "        current_pos = ordered_routes[x][current_length]\n",
    "\n",
    "        # Find next index\n",
    "        next_index = [z for z in routes[x] if z[0] == current_pos][0][1]\n",
    "        print(next_index)\n",
    "        ordered_routes[x].append(next_index)\n",
    "\n",
    "print(\"Optimal solution found. Distance: {dist} km.\".format(dist=round(model.objVal,2)))      \n",
    "ordered_routes"
   ]
  },
  {
   "attachments": {},
   "cell_type": "markdown",
   "metadata": {},
   "source": [
    "Let's extract the flow as well."
   ]
  },
  {
   "cell_type": "code",
   "execution_count": null,
   "metadata": {},
   "outputs": [],
   "source": [
    "flow = {x:[] for x in supplyboats}\n",
    "for z in Y:\n",
    "    if Y[z].X > 0:\n",
    "        flow[z[2]].append([z[0],z[1],Y[z].X])\n",
    "\n",
    "def order_flows(flows):\n",
    "    ordered_flows = {}\n",
    "\n",
    "    for boat, flow in flows.items():\n",
    "        # Create a mapping from start point to flow\n",
    "        flow_dict = {f[0]: f for f in flow}\n",
    "\n",
    "        # Find the start point\n",
    "        start = None\n",
    "        for f in flow:\n",
    "            if \"SDP\" in f[0]:\n",
    "                start = f.copy()  # Create a copy\n",
    "                break\n",
    "        else:\n",
    "            # Handle the case where no starting point is found\n",
    "            print(f\"No 'SDP' starting point found for boat {boat}.\")\n",
    "            continue\n",
    "\n",
    "        ordered_flow = [start]\n",
    "        while len(ordered_flow) < len(flow):\n",
    "            current = ordered_flow[-1]\n",
    "            next_flow = flow_dict.get(current[1])\n",
    "            if next_flow:\n",
    "                ordered_flow.append(next_flow)\n",
    "            else:\n",
    "                # Handle the case where no matching flow is found\n",
    "                print(f\"No matching flow found for boat {boat} after {current}.\")\n",
    "                break\n",
    "\n",
    "        ordered_flows[boat] = ordered_flow\n",
    "\n",
    "    return ordered_flows\n",
    "\n",
    "\n",
    "ordered_flows = order_flows(flow)\n",
    "for x in ordered_flows:\n",
    "    ordered_flows[x] = [y[2] for y in ordered_flows[x]]\n",
    "print(ordered_flows)"
   ]
  },
  {
   "attachments": {},
   "cell_type": "markdown",
   "metadata": {},
   "source": [
    "We'll save a function that can solve this model based on optimization_input in solver.py"
   ]
  }
 ],
 "metadata": {
  "kernelspec": {
   "display_name": "Python 3",
   "language": "python",
   "name": "python3"
  },
  "language_info": {
   "codemirror_mode": {
    "name": "ipython",
    "version": 3
   },
   "file_extension": ".py",
   "mimetype": "text/x-python",
   "name": "python",
   "nbconvert_exporter": "python",
   "pygments_lexer": "ipython3",
   "version": "3.9.6"
  },
  "orig_nbformat": 4
 },
 "nbformat": 4,
 "nbformat_minor": 2
}
