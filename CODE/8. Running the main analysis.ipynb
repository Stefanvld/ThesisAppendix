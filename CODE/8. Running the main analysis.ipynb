{
 "cells": [
  {
   "attachments": {},
   "cell_type": "markdown",
   "metadata": {},
   "source": [
    "In this notebook, we'll run the main analysis. For the sake of having an overview and being able to rerun each day inividually, I am running each simulation in its own cell block. Of course, this is not necessary at all. This notebook is a bit messier than the others."
   ]
  },
  {
   "cell_type": "code",
   "execution_count": null,
   "metadata": {},
   "outputs": [],
   "source": [
    "# Import opt_input #1 - this is our input file for the regular evides data\n",
    "import json\n",
    "from solver import *\n",
    "shipments = json.load(open('data/optimization_input_regular.json'))"
   ]
  },
  {
   "attachments": {},
   "cell_type": "markdown",
   "metadata": {},
   "source": [
    "Below, I'll identify the optimal routes for 10 instances of the problem. I'll initially allocate 4 hours to each problem."
   ]
  },
  {
   "cell_type": "code",
   "execution_count": null,
   "metadata": {},
   "outputs": [],
   "source": [
    "def SolveOneInstance(id, time_limit, parameters, shipments):\n",
    "    try:\n",
    "        opt_input = parameters\n",
    "        opt_input['Shipments'] = shipments[id]['Shipments']\n",
    "\n",
    "        print(opt_input)\n",
    "        \n",
    "        sol = OptimizeRoutes(opt_input, time_limit)\n",
    "            \n",
    "        # Store solution\n",
    "        solution = {\n",
    "            'OBJ': sol[0],\n",
    "            'Solving_time':sol[1],\n",
    "            'Routes':sol[2],\n",
    "            'Flow':sol[3],\n",
    "            'Ordered_routes':sol[4],\n",
    "            'Ordered_flow':sol[5],\n",
    "            'Ordered_AIS':sol[6]\n",
    "            }\n",
    "\n",
    "        # Create json file\n",
    "        with open('solutions/main_analysis/solution_{a}_regular.json'.format(a=id), \"w\") as json_file:\n",
    "            json.dump(solution, json_file)\n",
    "    \n",
    "        return(print(\"Successfully found a solution for problem\", id, \"within the given timefrime.\"))\n",
    "    \n",
    "    except:\n",
    "        return(print(\"The model was unable to find a solution for problem\", id, \"within the given timeframe.\"))"
   ]
  },
  {
   "attachments": {},
   "cell_type": "markdown",
   "metadata": {},
   "source": [
    "Denote fixed parameters"
   ]
  },
  {
   "cell_type": "code",
   "execution_count": null,
   "metadata": {},
   "outputs": [],
   "source": [
    "fixed_parameters = {'WB_percentage':0.30,\n",
    "            'SupplyBoats':{\n",
    "                'Watergeus':103, # this refers to water capacity\n",
    "                'Waterbuffel':103,\n",
    "                'Waterval':83,\n",
    "                'Waterman':83\n",
    "            },\n",
    "            'Depots':{\n",
    "                'Starting':{\n",
    "                    'SDP1':{\n",
    "                        'Loc':[51.96249648967369, 4.137689887873459],\n",
    "                        'Cap':1,\n",
    "                    },\n",
    "                    'SDP2':{\n",
    "                        'Loc':[51.89740273617377, 4.460817447562738],\n",
    "                        'Cap':6\n",
    "                    }\n",
    "                },\n",
    "            'Ending':{\n",
    "                    'EDP1':{\n",
    "                    'Loc':[51.96249648967369, 4.137689887873459],\n",
    "                    'Cap':1,\n",
    "                },\n",
    "                'EDP2':{\n",
    "                    'Loc':[51.89740273617377, 4.460817447562738],\n",
    "                    'Cap':6\n",
    "                }\n",
    "            }\n",
    "\n",
    "            },\n",
    "            'SupplyPoints':{\n",
    "                'SP1':[51.96249648967369, 4.137689887873459],\n",
    "                'SP2':[51.889365439900516, 4.313357332833194],\n",
    "                'SP3':[51.89765499630826, 4.459774551250766]\n",
    "            },\n",
    "            'Shipments':{},\n",
    "        }"
   ]
  },
  {
   "cell_type": "code",
   "execution_count": null,
   "metadata": {},
   "outputs": [],
   "source": [
    "SolveOneInstance('2022-09-08', 4*3600, fixed_parameters, shipments)"
   ]
  },
  {
   "cell_type": "code",
   "execution_count": null,
   "metadata": {},
   "outputs": [],
   "source": [
    "SolveOneInstance('2022-09-29', 4*3600, fixed_parameters, shipments)"
   ]
  },
  {
   "cell_type": "code",
   "execution_count": null,
   "metadata": {},
   "outputs": [],
   "source": [
    "SolveOneInstance('2022-10-21', 4*3600, fixed_parameters, shipments)"
   ]
  },
  {
   "cell_type": "code",
   "execution_count": null,
   "metadata": {},
   "outputs": [],
   "source": [
    "SolveOneInstance('2022-01-27', 4*3600, fixed_parameters, shipments)"
   ]
  },
  {
   "cell_type": "code",
   "execution_count": null,
   "metadata": {},
   "outputs": [],
   "source": [
    "SolveOneInstance('2022-07-28', 4*3600, fixed_parameters, shipments)"
   ]
  },
  {
   "cell_type": "code",
   "execution_count": null,
   "metadata": {},
   "outputs": [],
   "source": [
    "SolveOneInstance('2022-07-06', 4*3600, fixed_parameters, shipments)"
   ]
  },
  {
   "cell_type": "code",
   "execution_count": null,
   "metadata": {},
   "outputs": [],
   "source": [
    "SolveOneInstance('2022-06-29', 4*3600, fixed_parameters, shipments)"
   ]
  },
  {
   "cell_type": "code",
   "execution_count": null,
   "metadata": {},
   "outputs": [],
   "source": [
    "SolveOneInstance('2022-10-14', 4*3600, fixed_parameters, shipments)"
   ]
  },
  {
   "cell_type": "code",
   "execution_count": null,
   "metadata": {},
   "outputs": [],
   "source": [
    "SolveOneInstance('2022-09-30', 4*3600, fixed_parameters, shipments)"
   ]
  },
  {
   "cell_type": "code",
   "execution_count": null,
   "metadata": {},
   "outputs": [],
   "source": [
    "SolveOneInstance('2022-03-09', 4*3600, fixed_parameters, shipments)"
   ]
  },
  {
   "attachments": {},
   "cell_type": "markdown",
   "metadata": {},
   "source": [
    "Let's also try to solve some instances with bigger problem sizes!"
   ]
  },
  {
   "cell_type": "code",
   "execution_count": null,
   "metadata": {},
   "outputs": [],
   "source": [
    "SolveOneInstance('2022-05-03', 6*3600, fixed_parameters, shipments) # N=60"
   ]
  },
  {
   "cell_type": "code",
   "execution_count": null,
   "metadata": {},
   "outputs": [],
   "source": [
    "SolveOneInstance('2022-10-04', 6*3600, fixed_parameters, shipments) # N=60"
   ]
  },
  {
   "cell_type": "code",
   "execution_count": null,
   "metadata": {},
   "outputs": [],
   "source": [
    "SolveOneInstance('2022-05-19', 6*3600, fixed_parameters, shipments) # N=60"
   ]
  },
  {
   "cell_type": "code",
   "execution_count": null,
   "metadata": {},
   "outputs": [],
   "source": [
    "SolveOneInstance('2022-03-08', 12*3600, fixed_parameters, shipments) # N=70"
   ]
  },
  {
   "cell_type": "code",
   "execution_count": null,
   "metadata": {},
   "outputs": [],
   "source": [
    "SolveOneInstance('2022-07-26', 12*3600, fixed_parameters, shipments) # N=70"
   ]
  },
  {
   "attachments": {},
   "cell_type": "markdown",
   "metadata": {},
   "source": [
    "Now we re-run the same code, using the optimization_input JSON generated with the higher shipment dataset."
   ]
  },
  {
   "cell_type": "code",
   "execution_count": null,
   "metadata": {},
   "outputs": [],
   "source": [
    "# Import other JSON\n",
    "shipments = json.load(open('data/optimization_input_highershipment.json'))\n",
    "shipments\n",
    "\n",
    "# Redefine function\n",
    "def SolveOneInstance(id, time_limit, parameters, shipments):\n",
    "    try:\n",
    "        opt_input = parameters\n",
    "        opt_input['Shipments'] = shipments[id]['Shipments']\n",
    "\n",
    "        print(opt_input)\n",
    "        \n",
    "        sol = OptimizeRoutes(opt_input, time_limit)\n",
    "            \n",
    "        # Store solution\n",
    "        solution = {\n",
    "            'OBJ': sol[0],\n",
    "            'Solving_time':sol[1],\n",
    "            'Routes':sol[2],\n",
    "            'Flow':sol[3],\n",
    "            'Ordered_routes':sol[4],\n",
    "            'Ordered_flow':sol[5],\n",
    "            'Ordered_AIS':sol[6]\n",
    "            }\n",
    "\n",
    "        # Create json file\n",
    "        with open('solutions/main_analysis/solution_{a}_higherlimit.json'.format(a=id), \"w\") as json_file:\n",
    "            json.dump(solution, json_file)\n",
    "    \n",
    "        return(print(\"Successfully found a solution for problem\", id, \"within the given timefrime.\"))\n",
    "    \n",
    "    except:\n",
    "        return(print(\"The model was unable to find a solution for problem\", id, \"within the given timeframe.\"))"
   ]
  },
  {
   "cell_type": "code",
   "execution_count": null,
   "metadata": {},
   "outputs": [],
   "source": [
    "shipments"
   ]
  },
  {
   "cell_type": "code",
   "execution_count": null,
   "metadata": {},
   "outputs": [],
   "source": [
    "SolveOneInstance('2022-09-08', 4*3600, fixed_parameters, shipments)"
   ]
  },
  {
   "cell_type": "code",
   "execution_count": null,
   "metadata": {},
   "outputs": [],
   "source": [
    "SolveOneInstance('2022-09-29', 4*3600, fixed_parameters, shipments)"
   ]
  },
  {
   "cell_type": "code",
   "execution_count": null,
   "metadata": {},
   "outputs": [],
   "source": [
    "SolveOneInstance('2022-10-21', 4*3600, fixed_parameters, shipments)"
   ]
  },
  {
   "cell_type": "code",
   "execution_count": null,
   "metadata": {},
   "outputs": [],
   "source": [
    "SolveOneInstance('2022-01-27', 4*3600, fixed_parameters, shipments)"
   ]
  },
  {
   "cell_type": "code",
   "execution_count": null,
   "metadata": {},
   "outputs": [],
   "source": [
    "SolveOneInstance('2022-07-28', 4*3600, fixed_parameters, shipments)"
   ]
  },
  {
   "cell_type": "code",
   "execution_count": null,
   "metadata": {},
   "outputs": [],
   "source": [
    "SolveOneInstance('2022-07-06', 4*3600, fixed_parameters, shipments)"
   ]
  },
  {
   "cell_type": "code",
   "execution_count": null,
   "metadata": {},
   "outputs": [],
   "source": [
    "SolveOneInstance('2022-06-29', 4*3600, fixed_parameters, shipments)"
   ]
  },
  {
   "cell_type": "code",
   "execution_count": null,
   "metadata": {},
   "outputs": [],
   "source": [
    "SolveOneInstance('2022-10-14', 4*3600, fixed_parameters, shipments)"
   ]
  },
  {
   "cell_type": "code",
   "execution_count": null,
   "metadata": {},
   "outputs": [],
   "source": [
    "SolveOneInstance('2022-09-30', 4*3600, fixed_parameters, shipments)"
   ]
  },
  {
   "cell_type": "code",
   "execution_count": null,
   "metadata": {},
   "outputs": [],
   "source": [
    "SolveOneInstance('2022-03-09', 4*3600, fixed_parameters, shipments)"
   ]
  },
  {
   "attachments": {},
   "cell_type": "markdown",
   "metadata": {},
   "source": [
    "And we do the same for the larger shipments."
   ]
  },
  {
   "cell_type": "code",
   "execution_count": null,
   "metadata": {},
   "outputs": [],
   "source": [
    "SolveOneInstance('2022-05-03', 6*3600, fixed_parameters, shipments) "
   ]
  },
  {
   "cell_type": "code",
   "execution_count": null,
   "metadata": {},
   "outputs": [],
   "source": [
    "SolveOneInstance('2022-10-04', 6*3600, fixed_parameters, shipments)"
   ]
  },
  {
   "cell_type": "code",
   "execution_count": null,
   "metadata": {},
   "outputs": [],
   "source": [
    "SolveOneInstance('2022-03-08', 12*3600, fixed_parameters, shipments)"
   ]
  },
  {
   "cell_type": "code",
   "execution_count": null,
   "metadata": {},
   "outputs": [],
   "source": [
    "SolveOneInstance('2022-07-26', 12*3600, fixed_parameters, shipments)"
   ]
  },
  {
   "attachments": {},
   "cell_type": "markdown",
   "metadata": {},
   "source": [
    "Since after running for the first time there still appear to be shipments included in the opt_input which are better left out (i.e. those in Dordrecht, or even Nijmegen!), I'll run some extra code to get rid of these. Note that this is not necessary if the process in notebook 1. AIS extraction is improved or made redundant. "
   ]
  },
  {
   "cell_type": "code",
   "execution_count": null,
   "metadata": {},
   "outputs": [],
   "source": [
    "# Redefine function\n",
    "def SolveOneInstance(id, time_limit, parameters, shipments, savename):\n",
    "    try:\n",
    "        opt_input = parameters\n",
    "        opt_input['Shipments'] = shipments[id]['Shipments']\n",
    "\n",
    "        print(opt_input)\n",
    "        \n",
    "        sol = OptimizeRoutes(opt_input, time_limit)\n",
    "            \n",
    "        # Store solution\n",
    "        solution = {\n",
    "            'OBJ': sol[0],\n",
    "            'Solving_time':sol[1],\n",
    "            'Routes':sol[2],\n",
    "            'Flow':sol[3],\n",
    "            'Ordered_routes':sol[4],\n",
    "            'Ordered_flow':sol[5],\n",
    "            'Ordered_AIS':sol[6]\n",
    "            }\n",
    "\n",
    "        # Create json file\n",
    "        with open('solutions/main_analysis/solution_{a}_{savename}.json'.format(a=id, savename=savename), \"w\") as json_file:\n",
    "            json.dump(solution, json_file)\n",
    "    \n",
    "        return(print(\"Successfully found a solution for problem\", id, \"within the given timefrime.\"))\n",
    "    \n",
    "    except:\n",
    "        return(print(\"The model was unable to find a solution for problem\", id, \"within the given timeframe.\"))"
   ]
  },
  {
   "cell_type": "code",
   "execution_count": null,
   "metadata": {},
   "outputs": [],
   "source": [
    "# shipments (regular)\n",
    "shipments = json.load(open('data/optimization_input_regular.json'))\n",
    "\n",
    "def location_in_area(location, area):\n",
    "    (px, py) = location\n",
    "    ((rx_min, ry_min), (rx_max, ry_max)) = area\n",
    "\n",
    "    # Check if within boundaries\n",
    "    if rx_min <= px <= rx_max and ry_min <= py <= ry_max:\n",
    "        return 1\n",
    "    else:\n",
    "        return 0\n",
    "\n",
    "for x in shipments:\n",
    "    a = 0\n",
    "    to_delete = []\n",
    "    for y in shipments[x]['Shipments']:\n",
    "        rm = location_in_area(shipments[x]['Shipments'][y]['Loc'], ((51.86, 3.9), (52, 4.6)))\n",
    "        if rm == 0:\n",
    "            to_delete.append(y)\n",
    "    \n",
    "    for key in to_delete:\n",
    "        del shipments[x]['Shipments'][key]\n",
    "\n",
    "    # rename shipments\n",
    "    counter = 1\n",
    "    new_shipments = {}\n",
    "    for y in shipments[x]['Shipments']:\n",
    "        new_shipments['S' + str(counter)] = shipments[x]['Shipments'][y]\n",
    "        counter += 1\n",
    "\n",
    "    shipments[x]['Shipments'] = new_shipments\n",
    "    shipments[x]['N_Shipments'] = len(new_shipments)\n",
    "\n",
    "shipments"
   ]
  },
  {
   "attachments": {},
   "cell_type": "markdown",
   "metadata": {},
   "source": [
    "Then let's repeat our calculations"
   ]
  },
  {
   "cell_type": "code",
   "execution_count": null,
   "metadata": {},
   "outputs": [],
   "source": [
    "# Solve instances (regular)\n",
    "SolveOneInstance('2022-01-27', 4*3600, fixed_parameters, shipments, 'regular')\n",
    "SolveOneInstance('2022-03-08', 12*3600, fixed_parameters, shipments, 'regular')\n",
    "SolveOneInstance('2022-03-09', 4*3600, fixed_parameters, shipments, 'regular')\n",
    "SolveOneInstance('2022-05-19', 6*3600, fixed_parameters, shipments, 'regular')\n",
    "SolveOneInstance('2022-09-29', 4*3600, fixed_parameters, shipments, 'regular')\n",
    "SolveOneInstance('2022-10-04', 6*3600, fixed_parameters, shipments, 'regular')\n",
    "SolveOneInstance('2022-10-14', 12*3600, fixed_parameters, shipments, 'regular')"
   ]
  },
  {
   "attachments": {},
   "cell_type": "markdown",
   "metadata": {},
   "source": [
    "Then we do the same for our higher shipment set"
   ]
  },
  {
   "cell_type": "code",
   "execution_count": null,
   "metadata": {},
   "outputs": [],
   "source": [
    "# shipments (regular)\n",
    "shipments = json.load(open('data/optimization_input_highershipment.json'))\n",
    "\n",
    "for x in shipments:\n",
    "    a = 0\n",
    "    to_delete = []\n",
    "    for y in shipments[x]['Shipments']:\n",
    "        rm = location_in_area(shipments[x]['Shipments'][y]['Loc'], ((51.86, 3.9), (52, 4.6)))\n",
    "        if rm == 0:\n",
    "            to_delete.append(y)\n",
    "    \n",
    "    for key in to_delete:\n",
    "        del shipments[x]['Shipments'][key]\n",
    "\n",
    "    # rename shipments\n",
    "    counter = 1\n",
    "    new_shipments = {}\n",
    "    for y in shipments[x]['Shipments']:\n",
    "        new_shipments['S' + str(counter)] = shipments[x]['Shipments'][y]\n",
    "        counter += 1\n",
    "\n",
    "    shipments[x]['Shipments'] = new_shipments\n",
    "    shipments[x]['N_Shipments'] = len(new_shipments)\n",
    "\n",
    "shipments"
   ]
  },
  {
   "cell_type": "code",
   "execution_count": null,
   "metadata": {},
   "outputs": [],
   "source": [
    "# Solve instances (higher limit)\n",
    "SolveOneInstance('2022-01-27', 4*3600, fixed_parameters, shipments, 'higherlimit')\n",
    "SolveOneInstance('2022-03-08', 12*3600, fixed_parameters, shipments, 'higherlimit')\n",
    "SolveOneInstance('2022-03-09', 4*3600, fixed_parameters, shipments, 'higherlimit')\n",
    "SolveOneInstance('2022-05-19', 6*3600, fixed_parameters, shipments, 'higherlimit')\n",
    "SolveOneInstance('2022-09-29', 4*3600, fixed_parameters, shipments, 'higherlimit')\n",
    "SolveOneInstance('2022-10-04', 6*3600, fixed_parameters, shipments, 'higherlimit')\n",
    "SolveOneInstance('2022-10-14', 12*3600, fixed_parameters, shipments, 'higherlimit')"
   ]
  }
 ],
 "metadata": {
  "kernelspec": {
   "display_name": "Python 3",
   "language": "python",
   "name": "python3"
  },
  "language_info": {
   "codemirror_mode": {
    "name": "ipython",
    "version": 3
   },
   "file_extension": ".py",
   "mimetype": "text/x-python",
   "name": "python",
   "nbconvert_exporter": "python",
   "pygments_lexer": "ipython3",
   "version": "3.10.10"
  },
  "orig_nbformat": 4
 },
 "nbformat": 4,
 "nbformat_minor": 2
}
